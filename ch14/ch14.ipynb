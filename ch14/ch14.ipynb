{
 "cells": [
  {
   "cell_type": "code",
   "execution_count": 1,
   "metadata": {
    "collapsed": true
   },
   "outputs": [
    {
     "name": "stdout",
     "output_type": "stream",
     "text": [
      "Shapes: () (4,) (2, 2)\n",
      "Ranks: 0 1 2\n"
     ]
    }
   ],
   "source": [
    "import tensorflow as tf\n",
    "import numpy as np\n",
    "\n",
    "g = tf.Graph()\n",
    "\n",
    "# 計算グラフを定義\n",
    "with g.as_default():\n",
    "    # テンソルt1, t2, t3を定義\n",
    "    t1 = tf.constant(np.pi)\n",
    "    t2 = tf.constant([1, 2, 3, 4])\n",
    "    t3 = tf.constant([[1, 2], [3, 4]])\n",
    "\n",
    "    # テンソルt1, t2, t3の階数を取得\n",
    "    r1 = tf.rank(t1)\n",
    "    r2 = tf.rank(t2)\n",
    "    r3 = tf.rank(t3)\n",
    "\n",
    "    # テンソルt1, t2, t3の形状を取得\n",
    "    s1 = t1.get_shape()\n",
    "    s2 = t2.get_shape()\n",
    "    s3 = t3.get_shape()\n",
    "    print('Shapes:', s1, s2, s3)\n",
    "\n",
    "with tf.compat.v1.Session(graph=g) as sess:\n",
    "    print('Ranks:',\n",
    "          r1.eval(),\n",
    "          r2.eval(),\n",
    "          r3.eval())\n"
   ]
  },
  {
   "cell_type": "code",
   "execution_count": 2,
   "outputs": [],
   "source": [
    "g = tf.Graph()\n",
    "\n",
    "# 計算グラフにノードを追加\n",
    "with g.as_default():\n",
    "    a = tf.constant(1, name='a')\n",
    "    b = tf.constant(2, name='b')\n",
    "    c = tf.constant(3, name='c')\n",
    "    z = 2 * (a - b) + c"
   ],
   "metadata": {
    "collapsed": false,
    "pycharm": {
     "name": "#%%\n"
    }
   }
  },
  {
   "cell_type": "code",
   "execution_count": 3,
   "outputs": [
    {
     "name": "stdout",
     "output_type": "stream",
     "text": [
      "2*(a-b)+c =>  1\n"
     ]
    }
   ],
   "source": [
    "with tf.compat.v1.Session(graph=g) as sess:\n",
    "    print('2*(a-b)+c => ', sess.run(z))\n"
   ],
   "metadata": {
    "collapsed": false,
    "pycharm": {
     "name": "#%%\n"
    }
   }
  },
  {
   "cell_type": "code",
   "execution_count": 4,
   "outputs": [],
   "source": [
    "g = tf.Graph()\n",
    "\n",
    "with g.as_default():\n",
    "    tf_a = tf.compat.v1.placeholder(tf.int32, shape=[], name='tf_a')\n",
    "    tf_b = tf.compat.v1.placeholder(tf.int32, shape=[], name='tf_b')\n",
    "    tf_c = tf.compat.v1.placeholder(tf.int32, shape=[], name='tf_c')\n",
    "    # 中間のテンソルを格納\n",
    "    r1 = tf_a - tf_b\n",
    "    r2 = 2 * r1\n",
    "    z = r2 + tf_c"
   ],
   "metadata": {
    "collapsed": false,
    "pycharm": {
     "name": "#%%\n"
    }
   }
  },
  {
   "cell_type": "code",
   "execution_count": 5,
   "outputs": [
    {
     "name": "stdout",
     "output_type": "stream",
     "text": [
      "z: 1\n"
     ]
    }
   ],
   "source": [
    "with tf.compat.v1.Session(graph=g) as sess:\n",
    "    feed = {tf_a: 1, tf_b: 2, tf_c: 3}\n",
    "    print('z:', sess.run(z, feed_dict=feed))"
   ],
   "metadata": {
    "collapsed": false,
    "pycharm": {
     "name": "#%%\n"
    }
   }
  },
  {
   "cell_type": "code",
   "execution_count": 6,
   "outputs": [
    {
     "name": "stdout",
     "output_type": "stream",
     "text": [
      "r1: -1\n",
      "r2: -2\n",
      "r1: -1\n",
      "r2: -2\n"
     ]
    }
   ],
   "source": [
    "with tf.compat.v1.Session(graph=g) as sess:\n",
    "    feed = {tf_a: 1, tf_b: 2}\n",
    "    print('r1:', sess.run(r1, feed_dict=feed))\n",
    "    print('r2:', sess.run(r2, feed_dict=feed))\n",
    "    feed = {tf_a: 1, tf_b: 2, tf_c: 3}\n",
    "    print('r1:', sess.run(r1, feed_dict=feed))\n",
    "    print('r2:', sess.run(r2, feed_dict=feed))"
   ],
   "metadata": {
    "collapsed": false,
    "pycharm": {
     "name": "#%%\n"
    }
   }
  },
  {
   "cell_type": "code",
   "execution_count": 7,
   "outputs": [],
   "source": [
    "with g.as_default():\n",
    "    tf_x = tf.compat.v1.placeholder(tf.float32, shape=[None, 2], name='tf_x')\n",
    "    x_mean = tf.reduce_mean(tf_x, axis=0, name='mean')"
   ],
   "metadata": {
    "collapsed": false,
    "pycharm": {
     "name": "#%%\n"
    }
   }
  },
  {
   "cell_type": "code",
   "execution_count": 8,
   "outputs": [],
   "source": [
    "np.random.seed(123)\n",
    "np.set_printoptions(precision=2)"
   ],
   "metadata": {
    "collapsed": false,
    "pycharm": {
     "name": "#%%\n"
    }
   }
  },
  {
   "cell_type": "code",
   "execution_count": 9,
   "outputs": [
    {
     "name": "stdout",
     "output_type": "stream",
     "text": [
      "Feeding data with shape  (5, 2)\n",
      "Result: [0.62 0.47]\n",
      "Feeding data with shape  (10, 2)\n",
      "Result: [0.46 0.49]\n"
     ]
    }
   ],
   "source": [
    "with tf.compat.v1.Session(graph=g) as sess:\n",
    "    x1 = np.random.uniform(low=0, high=1, size=(5, 2))\n",
    "    print('Feeding data with shape ', x1.shape)\n",
    "    print('Result:', sess.run(x_mean, feed_dict={tf_x: x1}))\n",
    "    x2 = np.random.uniform(low=0, high=1, size=(10, 2))\n",
    "    print('Feeding data with shape ', x2.shape)\n",
    "    print('Result:', sess.run(x_mean, feed_dict={tf_x: x2}))"
   ],
   "metadata": {
    "collapsed": false,
    "pycharm": {
     "name": "#%%\n"
    }
   }
  },
  {
   "cell_type": "code",
   "execution_count": 10,
   "outputs": [
    {
     "name": "stdout",
     "output_type": "stream",
     "text": [
      "<tf.Variable 'w:0' shape=(2, 4) dtype=int64>\n"
     ]
    }
   ],
   "source": [
    "g1 = tf.Graph()\n",
    "\n",
    "with g1.as_default():\n",
    "    w = tf.Variable(np.array([[1, 2, 3, 4], [5, 6, 7, 8]], dtype=np.int64), name='w')\n",
    "    print(w)"
   ],
   "metadata": {
    "collapsed": false,
    "pycharm": {
     "name": "#%%\n"
    }
   }
  },
  {
   "cell_type": "code",
   "execution_count": 11,
   "outputs": [
    {
     "name": "stdout",
     "output_type": "stream",
     "text": [
      "[[1 2 3 4]\n",
      " [5 6 7 8]]\n"
     ]
    }
   ],
   "source": [
    "with tf.compat.v1.Session(graph=g1) as sess:\n",
    "    sess.run(tf.compat.v1.global_variables_initializer())\n",
    "    print(sess.run(w))"
   ],
   "metadata": {
    "collapsed": false,
    "pycharm": {
     "name": "#%%\n"
    }
   }
  },
  {
   "cell_type": "code",
   "execution_count": 12,
   "outputs": [],
   "source": [
    "g2 = tf.Graph()\n",
    "\n",
    "with g2.as_default():\n",
    "    w1 = tf.Variable(1, name='w1')\n",
    "    init_op = tf.compat.v1.global_variables_initializer()\n",
    "    w2 = tf.Variable(2, name='w2')"
   ],
   "metadata": {
    "collapsed": false,
    "pycharm": {
     "name": "#%%\n"
    }
   }
  },
  {
   "cell_type": "code",
   "execution_count": 13,
   "outputs": [
    {
     "name": "stdout",
     "output_type": "stream",
     "text": [
      "w1: 1\n"
     ]
    }
   ],
   "source": [
    "with tf.compat.v1.Session(graph=g2) as sess:\n",
    "    sess.run(init_op)\n",
    "    print('w1:', sess.run(w1))"
   ],
   "metadata": {
    "collapsed": false,
    "pycharm": {
     "name": "#%%\n"
    }
   }
  },
  {
   "cell_type": "code",
   "execution_count": 14,
   "outputs": [
    {
     "ename": "FailedPreconditionError",
     "evalue": "Could not find variable w2. This could mean that the variable has been deleted. In TF1, it can also mean the variable is uninitialized. Debug info: container=localhost, status=Not found: Resource localhost/w2/class tensorflow::Var does not exist.\n\t [[node w2/Read/ReadVariableOp (defined at <ipython-input-12-28a523a53f0d>:6) ]]\n\nOriginal stack trace for 'w2/Read/ReadVariableOp':\n  File \"c:\\users\\1023d\\.pyenv\\pyenv-win\\versions\\3.8.2\\lib\\runpy.py\", line 193, in _run_module_as_main\n    return _run_code(code, main_globals, None,\n  File \"c:\\users\\1023d\\.pyenv\\pyenv-win\\versions\\3.8.2\\lib\\runpy.py\", line 86, in _run_code\n    exec(code, run_globals)\n  File \"c:\\users\\1023d\\.virtualenvs\\pythonmachinelearning-qwvwlql2\\lib\\site-packages\\ipykernel_launcher.py\", line 16, in <module>\n    app.launch_new_instance()\n  File \"c:\\users\\1023d\\.virtualenvs\\pythonmachinelearning-qwvwlql2\\lib\\site-packages\\traitlets\\config\\application.py\", line 845, in launch_instance\n    app.start()\n  File \"c:\\users\\1023d\\.virtualenvs\\pythonmachinelearning-qwvwlql2\\lib\\site-packages\\ipykernel\\kernelapp.py\", line 612, in start\n    self.io_loop.start()\n  File \"c:\\users\\1023d\\.virtualenvs\\pythonmachinelearning-qwvwlql2\\lib\\site-packages\\tornado\\platform\\asyncio.py\", line 199, in start\n    self.asyncio_loop.run_forever()\n  File \"c:\\users\\1023d\\.pyenv\\pyenv-win\\versions\\3.8.2\\lib\\asyncio\\windows_events.py\", line 316, in run_forever\n    super().run_forever()\n  File \"c:\\users\\1023d\\.pyenv\\pyenv-win\\versions\\3.8.2\\lib\\asyncio\\base_events.py\", line 570, in run_forever\n    self._run_once()\n  File \"c:\\users\\1023d\\.pyenv\\pyenv-win\\versions\\3.8.2\\lib\\asyncio\\base_events.py\", line 1859, in _run_once\n    handle._run()\n  File \"c:\\users\\1023d\\.pyenv\\pyenv-win\\versions\\3.8.2\\lib\\asyncio\\events.py\", line 81, in _run\n    self._context.run(self._callback, *self._args)\n  File \"c:\\users\\1023d\\.virtualenvs\\pythonmachinelearning-qwvwlql2\\lib\\site-packages\\tornado\\ioloop.py\", line 688, in <lambda>\n    lambda f: self._run_callback(functools.partial(callback, future))\n  File \"c:\\users\\1023d\\.virtualenvs\\pythonmachinelearning-qwvwlql2\\lib\\site-packages\\tornado\\ioloop.py\", line 741, in _run_callback\n    ret = callback()\n  File \"c:\\users\\1023d\\.virtualenvs\\pythonmachinelearning-qwvwlql2\\lib\\site-packages\\tornado\\gen.py\", line 814, in inner\n    self.ctx_run(self.run)\n  File \"c:\\users\\1023d\\.virtualenvs\\pythonmachinelearning-qwvwlql2\\lib\\site-packages\\tornado\\gen.py\", line 775, in run\n    yielded = self.gen.send(value)\n  File \"c:\\users\\1023d\\.virtualenvs\\pythonmachinelearning-qwvwlql2\\lib\\site-packages\\ipykernel\\kernelbase.py\", line 374, in dispatch_queue\n    yield self.process_one()\n  File \"c:\\users\\1023d\\.virtualenvs\\pythonmachinelearning-qwvwlql2\\lib\\site-packages\\tornado\\gen.py\", line 250, in wrapper\n    runner = Runner(ctx_run, result, future, yielded)\n  File \"c:\\users\\1023d\\.virtualenvs\\pythonmachinelearning-qwvwlql2\\lib\\site-packages\\tornado\\gen.py\", line 741, in __init__\n    self.ctx_run(self.run)\n  File \"c:\\users\\1023d\\.virtualenvs\\pythonmachinelearning-qwvwlql2\\lib\\site-packages\\tornado\\gen.py\", line 775, in run\n    yielded = self.gen.send(value)\n  File \"c:\\users\\1023d\\.virtualenvs\\pythonmachinelearning-qwvwlql2\\lib\\site-packages\\ipykernel\\kernelbase.py\", line 358, in process_one\n    yield gen.maybe_future(dispatch(*args))\n  File \"c:\\users\\1023d\\.virtualenvs\\pythonmachinelearning-qwvwlql2\\lib\\site-packages\\tornado\\gen.py\", line 234, in wrapper\n    yielded = ctx_run(next, result)\n  File \"c:\\users\\1023d\\.virtualenvs\\pythonmachinelearning-qwvwlql2\\lib\\site-packages\\ipykernel\\kernelbase.py\", line 261, in dispatch_shell\n    yield gen.maybe_future(handler(stream, idents, msg))\n  File \"c:\\users\\1023d\\.virtualenvs\\pythonmachinelearning-qwvwlql2\\lib\\site-packages\\tornado\\gen.py\", line 234, in wrapper\n    yielded = ctx_run(next, result)\n  File \"c:\\users\\1023d\\.virtualenvs\\pythonmachinelearning-qwvwlql2\\lib\\site-packages\\ipykernel\\kernelbase.py\", line 536, in execute_request\n    self.do_execute(\n  File \"c:\\users\\1023d\\.virtualenvs\\pythonmachinelearning-qwvwlql2\\lib\\site-packages\\tornado\\gen.py\", line 234, in wrapper\n    yielded = ctx_run(next, result)\n  File \"c:\\users\\1023d\\.virtualenvs\\pythonmachinelearning-qwvwlql2\\lib\\site-packages\\ipykernel\\ipkernel.py\", line 302, in do_execute\n    res = shell.run_cell(code, store_history=store_history, silent=silent)\n  File \"c:\\users\\1023d\\.virtualenvs\\pythonmachinelearning-qwvwlql2\\lib\\site-packages\\ipykernel\\zmqshell.py\", line 539, in run_cell\n    return super(ZMQInteractiveShell, self).run_cell(*args, **kwargs)\n  File \"c:\\users\\1023d\\.virtualenvs\\pythonmachinelearning-qwvwlql2\\lib\\site-packages\\IPython\\core\\interactiveshell.py\", line 2886, in run_cell\n    result = self._run_cell(\n  File \"c:\\users\\1023d\\.virtualenvs\\pythonmachinelearning-qwvwlql2\\lib\\site-packages\\IPython\\core\\interactiveshell.py\", line 2932, in _run_cell\n    return runner(coro)\n  File \"c:\\users\\1023d\\.virtualenvs\\pythonmachinelearning-qwvwlql2\\lib\\site-packages\\IPython\\core\\async_helpers.py\", line 68, in _pseudo_sync_runner\n    coro.send(None)\n  File \"c:\\users\\1023d\\.virtualenvs\\pythonmachinelearning-qwvwlql2\\lib\\site-packages\\IPython\\core\\interactiveshell.py\", line 3155, in run_cell_async\n    has_raised = await self.run_ast_nodes(code_ast.body, cell_name,\n  File \"c:\\users\\1023d\\.virtualenvs\\pythonmachinelearning-qwvwlql2\\lib\\site-packages\\IPython\\core\\interactiveshell.py\", line 3347, in run_ast_nodes\n    if (await self.run_code(code, result,  async_=asy)):\n  File \"c:\\users\\1023d\\.virtualenvs\\pythonmachinelearning-qwvwlql2\\lib\\site-packages\\IPython\\core\\interactiveshell.py\", line 3427, in run_code\n    exec(code_obj, self.user_global_ns, self.user_ns)\n  File \"<ipython-input-12-28a523a53f0d>\", line 6, in <module>\n    w2 = tf.Variable(2, name='w2')\n  File \"c:\\users\\1023d\\.virtualenvs\\pythonmachinelearning-qwvwlql2\\lib\\site-packages\\tensorflow\\python\\ops\\variables.py\", line 262, in __call__\n    return cls._variable_v2_call(*args, **kwargs)\n  File \"c:\\users\\1023d\\.virtualenvs\\pythonmachinelearning-qwvwlql2\\lib\\site-packages\\tensorflow\\python\\ops\\variables.py\", line 244, in _variable_v2_call\n    return previous_getter(\n  File \"c:\\users\\1023d\\.virtualenvs\\pythonmachinelearning-qwvwlql2\\lib\\site-packages\\tensorflow\\python\\ops\\variables.py\", line 237, in <lambda>\n    previous_getter = lambda **kws: default_variable_creator_v2(None, **kws)\n  File \"c:\\users\\1023d\\.virtualenvs\\pythonmachinelearning-qwvwlql2\\lib\\site-packages\\tensorflow\\python\\ops\\variable_scope.py\", line 2662, in default_variable_creator_v2\n    return resource_variable_ops.ResourceVariable(\n  File \"c:\\users\\1023d\\.virtualenvs\\pythonmachinelearning-qwvwlql2\\lib\\site-packages\\tensorflow\\python\\ops\\variables.py\", line 264, in __call__\n    return super(VariableMetaclass, cls).__call__(*args, **kwargs)\n  File \"c:\\users\\1023d\\.virtualenvs\\pythonmachinelearning-qwvwlql2\\lib\\site-packages\\tensorflow\\python\\ops\\resource_variable_ops.py\", line 1584, in __init__\n    self._init_from_args(\n  File \"c:\\users\\1023d\\.virtualenvs\\pythonmachinelearning-qwvwlql2\\lib\\site-packages\\tensorflow\\python\\ops\\resource_variable_ops.py\", line 1777, in _init_from_args\n    value = gen_resource_variable_ops.read_variable_op(handle, dtype)\n  File \"c:\\users\\1023d\\.virtualenvs\\pythonmachinelearning-qwvwlql2\\lib\\site-packages\\tensorflow\\python\\ops\\gen_resource_variable_ops.py\", line 483, in read_variable_op\n    _, _, _op, _outputs = _op_def_library._apply_op_helper(\n  File \"c:\\users\\1023d\\.virtualenvs\\pythonmachinelearning-qwvwlql2\\lib\\site-packages\\tensorflow\\python\\framework\\op_def_library.py\", line 748, in _apply_op_helper\n    op = g._create_op_internal(op_type_name, inputs, dtypes=None,\n  File \"c:\\users\\1023d\\.virtualenvs\\pythonmachinelearning-qwvwlql2\\lib\\site-packages\\tensorflow\\python\\framework\\ops.py\", line 3557, in _create_op_internal\n    ret = Operation(\n  File \"c:\\users\\1023d\\.virtualenvs\\pythonmachinelearning-qwvwlql2\\lib\\site-packages\\tensorflow\\python\\framework\\ops.py\", line 2045, in __init__\n    self._traceback = tf_stack.extract_stack_for_node(self._c_op)\n",
     "output_type": "error",
     "traceback": [
      "\u001B[1;31m---------------------------------------------------------------------------\u001B[0m",
      "\u001B[1;31mFailedPreconditionError\u001B[0m                   Traceback (most recent call last)",
      "\u001B[1;32mc:\\users\\1023d\\.virtualenvs\\pythonmachinelearning-qwvwlql2\\lib\\site-packages\\tensorflow\\python\\client\\session.py\u001B[0m in \u001B[0;36m_do_call\u001B[1;34m(self, fn, *args)\u001B[0m\n\u001B[0;32m   1374\u001B[0m     \u001B[1;32mtry\u001B[0m\u001B[1;33m:\u001B[0m\u001B[1;33m\u001B[0m\u001B[1;33m\u001B[0m\u001B[0m\n\u001B[1;32m-> 1375\u001B[1;33m       \u001B[1;32mreturn\u001B[0m \u001B[0mfn\u001B[0m\u001B[1;33m(\u001B[0m\u001B[1;33m*\u001B[0m\u001B[0margs\u001B[0m\u001B[1;33m)\u001B[0m\u001B[1;33m\u001B[0m\u001B[1;33m\u001B[0m\u001B[0m\n\u001B[0m\u001B[0;32m   1376\u001B[0m     \u001B[1;32mexcept\u001B[0m \u001B[0merrors\u001B[0m\u001B[1;33m.\u001B[0m\u001B[0mOpError\u001B[0m \u001B[1;32mas\u001B[0m \u001B[0me\u001B[0m\u001B[1;33m:\u001B[0m\u001B[1;33m\u001B[0m\u001B[1;33m\u001B[0m\u001B[0m\n",
      "\u001B[1;32mc:\\users\\1023d\\.virtualenvs\\pythonmachinelearning-qwvwlql2\\lib\\site-packages\\tensorflow\\python\\client\\session.py\u001B[0m in \u001B[0;36m_run_fn\u001B[1;34m(feed_dict, fetch_list, target_list, options, run_metadata)\u001B[0m\n\u001B[0;32m   1358\u001B[0m       \u001B[0mself\u001B[0m\u001B[1;33m.\u001B[0m\u001B[0m_extend_graph\u001B[0m\u001B[1;33m(\u001B[0m\u001B[1;33m)\u001B[0m\u001B[1;33m\u001B[0m\u001B[1;33m\u001B[0m\u001B[0m\n\u001B[1;32m-> 1359\u001B[1;33m       return self._call_tf_sessionrun(options, feed_dict, fetch_list,\n\u001B[0m\u001B[0;32m   1360\u001B[0m                                       target_list, run_metadata)\n",
      "\u001B[1;32mc:\\users\\1023d\\.virtualenvs\\pythonmachinelearning-qwvwlql2\\lib\\site-packages\\tensorflow\\python\\client\\session.py\u001B[0m in \u001B[0;36m_call_tf_sessionrun\u001B[1;34m(self, options, feed_dict, fetch_list, target_list, run_metadata)\u001B[0m\n\u001B[0;32m   1450\u001B[0m                           run_metadata):\n\u001B[1;32m-> 1451\u001B[1;33m     return tf_session.TF_SessionRun_wrapper(self._session, options, feed_dict,\n\u001B[0m\u001B[0;32m   1452\u001B[0m                                             \u001B[0mfetch_list\u001B[0m\u001B[1;33m,\u001B[0m \u001B[0mtarget_list\u001B[0m\u001B[1;33m,\u001B[0m\u001B[1;33m\u001B[0m\u001B[1;33m\u001B[0m\u001B[0m\n",
      "\u001B[1;31mFailedPreconditionError\u001B[0m: Could not find variable w2. This could mean that the variable has been deleted. In TF1, it can also mean the variable is uninitialized. Debug info: container=localhost, status=Not found: Resource localhost/w2/class tensorflow::Var does not exist.\n\t [[{{node w2/Read/ReadVariableOp}}]]",
      "\nDuring handling of the above exception, another exception occurred:\n",
      "\u001B[1;31mFailedPreconditionError\u001B[0m                   Traceback (most recent call last)",
      "\u001B[1;32m<ipython-input-14-005672123d52>\u001B[0m in \u001B[0;36m<module>\u001B[1;34m\u001B[0m\n\u001B[0;32m      1\u001B[0m \u001B[1;32mwith\u001B[0m \u001B[0mtf\u001B[0m\u001B[1;33m.\u001B[0m\u001B[0mcompat\u001B[0m\u001B[1;33m.\u001B[0m\u001B[0mv1\u001B[0m\u001B[1;33m.\u001B[0m\u001B[0mSession\u001B[0m\u001B[1;33m(\u001B[0m\u001B[0mgraph\u001B[0m\u001B[1;33m=\u001B[0m\u001B[0mg2\u001B[0m\u001B[1;33m)\u001B[0m \u001B[1;32mas\u001B[0m \u001B[0msess\u001B[0m\u001B[1;33m:\u001B[0m\u001B[1;33m\u001B[0m\u001B[1;33m\u001B[0m\u001B[0m\n\u001B[0;32m      2\u001B[0m     \u001B[0msess\u001B[0m\u001B[1;33m.\u001B[0m\u001B[0mrun\u001B[0m\u001B[1;33m(\u001B[0m\u001B[0minit_op\u001B[0m\u001B[1;33m)\u001B[0m\u001B[1;33m\u001B[0m\u001B[1;33m\u001B[0m\u001B[0m\n\u001B[1;32m----> 3\u001B[1;33m     \u001B[0mprint\u001B[0m\u001B[1;33m(\u001B[0m\u001B[1;34m'w2:'\u001B[0m\u001B[1;33m,\u001B[0m \u001B[0msess\u001B[0m\u001B[1;33m.\u001B[0m\u001B[0mrun\u001B[0m\u001B[1;33m(\u001B[0m\u001B[0mw2\u001B[0m\u001B[1;33m)\u001B[0m\u001B[1;33m)\u001B[0m\u001B[1;33m\u001B[0m\u001B[1;33m\u001B[0m\u001B[0m\n\u001B[0m\u001B[0;32m      4\u001B[0m \u001B[1;33m\u001B[0m\u001B[0m\n",
      "\u001B[1;32mc:\\users\\1023d\\.virtualenvs\\pythonmachinelearning-qwvwlql2\\lib\\site-packages\\tensorflow\\python\\client\\session.py\u001B[0m in \u001B[0;36mrun\u001B[1;34m(self, fetches, feed_dict, options, run_metadata)\u001B[0m\n\u001B[0;32m    965\u001B[0m \u001B[1;33m\u001B[0m\u001B[0m\n\u001B[0;32m    966\u001B[0m     \u001B[1;32mtry\u001B[0m\u001B[1;33m:\u001B[0m\u001B[1;33m\u001B[0m\u001B[1;33m\u001B[0m\u001B[0m\n\u001B[1;32m--> 967\u001B[1;33m       result = self._run(None, fetches, feed_dict, options_ptr,\n\u001B[0m\u001B[0;32m    968\u001B[0m                          run_metadata_ptr)\n\u001B[0;32m    969\u001B[0m       \u001B[1;32mif\u001B[0m \u001B[0mrun_metadata\u001B[0m\u001B[1;33m:\u001B[0m\u001B[1;33m\u001B[0m\u001B[1;33m\u001B[0m\u001B[0m\n",
      "\u001B[1;32mc:\\users\\1023d\\.virtualenvs\\pythonmachinelearning-qwvwlql2\\lib\\site-packages\\tensorflow\\python\\client\\session.py\u001B[0m in \u001B[0;36m_run\u001B[1;34m(self, handle, fetches, feed_dict, options, run_metadata)\u001B[0m\n\u001B[0;32m   1188\u001B[0m     \u001B[1;31m# or if the call is a partial run that specifies feeds.\u001B[0m\u001B[1;33m\u001B[0m\u001B[1;33m\u001B[0m\u001B[1;33m\u001B[0m\u001B[0m\n\u001B[0;32m   1189\u001B[0m     \u001B[1;32mif\u001B[0m \u001B[0mfinal_fetches\u001B[0m \u001B[1;32mor\u001B[0m \u001B[0mfinal_targets\u001B[0m \u001B[1;32mor\u001B[0m \u001B[1;33m(\u001B[0m\u001B[0mhandle\u001B[0m \u001B[1;32mand\u001B[0m \u001B[0mfeed_dict_tensor\u001B[0m\u001B[1;33m)\u001B[0m\u001B[1;33m:\u001B[0m\u001B[1;33m\u001B[0m\u001B[1;33m\u001B[0m\u001B[0m\n\u001B[1;32m-> 1190\u001B[1;33m       results = self._do_run(handle, final_targets, final_fetches,\n\u001B[0m\u001B[0;32m   1191\u001B[0m                              feed_dict_tensor, options, run_metadata)\n\u001B[0;32m   1192\u001B[0m     \u001B[1;32melse\u001B[0m\u001B[1;33m:\u001B[0m\u001B[1;33m\u001B[0m\u001B[1;33m\u001B[0m\u001B[0m\n",
      "\u001B[1;32mc:\\users\\1023d\\.virtualenvs\\pythonmachinelearning-qwvwlql2\\lib\\site-packages\\tensorflow\\python\\client\\session.py\u001B[0m in \u001B[0;36m_do_run\u001B[1;34m(self, handle, target_list, fetch_list, feed_dict, options, run_metadata)\u001B[0m\n\u001B[0;32m   1366\u001B[0m \u001B[1;33m\u001B[0m\u001B[0m\n\u001B[0;32m   1367\u001B[0m     \u001B[1;32mif\u001B[0m \u001B[0mhandle\u001B[0m \u001B[1;32mis\u001B[0m \u001B[1;32mNone\u001B[0m\u001B[1;33m:\u001B[0m\u001B[1;33m\u001B[0m\u001B[1;33m\u001B[0m\u001B[0m\n\u001B[1;32m-> 1368\u001B[1;33m       return self._do_call(_run_fn, feeds, fetches, targets, options,\n\u001B[0m\u001B[0;32m   1369\u001B[0m                            run_metadata)\n\u001B[0;32m   1370\u001B[0m     \u001B[1;32melse\u001B[0m\u001B[1;33m:\u001B[0m\u001B[1;33m\u001B[0m\u001B[1;33m\u001B[0m\u001B[0m\n",
      "\u001B[1;32mc:\\users\\1023d\\.virtualenvs\\pythonmachinelearning-qwvwlql2\\lib\\site-packages\\tensorflow\\python\\client\\session.py\u001B[0m in \u001B[0;36m_do_call\u001B[1;34m(self, fn, *args)\u001B[0m\n\u001B[0;32m   1392\u001B[0m                     \u001B[1;34m'\\nsession_config.graph_options.rewrite_options.'\u001B[0m\u001B[1;33m\u001B[0m\u001B[1;33m\u001B[0m\u001B[0m\n\u001B[0;32m   1393\u001B[0m                     'disable_meta_optimizer = True')\n\u001B[1;32m-> 1394\u001B[1;33m       \u001B[1;32mraise\u001B[0m \u001B[0mtype\u001B[0m\u001B[1;33m(\u001B[0m\u001B[0me\u001B[0m\u001B[1;33m)\u001B[0m\u001B[1;33m(\u001B[0m\u001B[0mnode_def\u001B[0m\u001B[1;33m,\u001B[0m \u001B[0mop\u001B[0m\u001B[1;33m,\u001B[0m \u001B[0mmessage\u001B[0m\u001B[1;33m)\u001B[0m\u001B[1;33m\u001B[0m\u001B[1;33m\u001B[0m\u001B[0m\n\u001B[0m\u001B[0;32m   1395\u001B[0m \u001B[1;33m\u001B[0m\u001B[0m\n\u001B[0;32m   1396\u001B[0m   \u001B[1;32mdef\u001B[0m \u001B[0m_extend_graph\u001B[0m\u001B[1;33m(\u001B[0m\u001B[0mself\u001B[0m\u001B[1;33m)\u001B[0m\u001B[1;33m:\u001B[0m\u001B[1;33m\u001B[0m\u001B[1;33m\u001B[0m\u001B[0m\n",
      "\u001B[1;31mFailedPreconditionError\u001B[0m: Could not find variable w2. This could mean that the variable has been deleted. In TF1, it can also mean the variable is uninitialized. Debug info: container=localhost, status=Not found: Resource localhost/w2/class tensorflow::Var does not exist.\n\t [[node w2/Read/ReadVariableOp (defined at <ipython-input-12-28a523a53f0d>:6) ]]\n\nOriginal stack trace for 'w2/Read/ReadVariableOp':\n  File \"c:\\users\\1023d\\.pyenv\\pyenv-win\\versions\\3.8.2\\lib\\runpy.py\", line 193, in _run_module_as_main\n    return _run_code(code, main_globals, None,\n  File \"c:\\users\\1023d\\.pyenv\\pyenv-win\\versions\\3.8.2\\lib\\runpy.py\", line 86, in _run_code\n    exec(code, run_globals)\n  File \"c:\\users\\1023d\\.virtualenvs\\pythonmachinelearning-qwvwlql2\\lib\\site-packages\\ipykernel_launcher.py\", line 16, in <module>\n    app.launch_new_instance()\n  File \"c:\\users\\1023d\\.virtualenvs\\pythonmachinelearning-qwvwlql2\\lib\\site-packages\\traitlets\\config\\application.py\", line 845, in launch_instance\n    app.start()\n  File \"c:\\users\\1023d\\.virtualenvs\\pythonmachinelearning-qwvwlql2\\lib\\site-packages\\ipykernel\\kernelapp.py\", line 612, in start\n    self.io_loop.start()\n  File \"c:\\users\\1023d\\.virtualenvs\\pythonmachinelearning-qwvwlql2\\lib\\site-packages\\tornado\\platform\\asyncio.py\", line 199, in start\n    self.asyncio_loop.run_forever()\n  File \"c:\\users\\1023d\\.pyenv\\pyenv-win\\versions\\3.8.2\\lib\\asyncio\\windows_events.py\", line 316, in run_forever\n    super().run_forever()\n  File \"c:\\users\\1023d\\.pyenv\\pyenv-win\\versions\\3.8.2\\lib\\asyncio\\base_events.py\", line 570, in run_forever\n    self._run_once()\n  File \"c:\\users\\1023d\\.pyenv\\pyenv-win\\versions\\3.8.2\\lib\\asyncio\\base_events.py\", line 1859, in _run_once\n    handle._run()\n  File \"c:\\users\\1023d\\.pyenv\\pyenv-win\\versions\\3.8.2\\lib\\asyncio\\events.py\", line 81, in _run\n    self._context.run(self._callback, *self._args)\n  File \"c:\\users\\1023d\\.virtualenvs\\pythonmachinelearning-qwvwlql2\\lib\\site-packages\\tornado\\ioloop.py\", line 688, in <lambda>\n    lambda f: self._run_callback(functools.partial(callback, future))\n  File \"c:\\users\\1023d\\.virtualenvs\\pythonmachinelearning-qwvwlql2\\lib\\site-packages\\tornado\\ioloop.py\", line 741, in _run_callback\n    ret = callback()\n  File \"c:\\users\\1023d\\.virtualenvs\\pythonmachinelearning-qwvwlql2\\lib\\site-packages\\tornado\\gen.py\", line 814, in inner\n    self.ctx_run(self.run)\n  File \"c:\\users\\1023d\\.virtualenvs\\pythonmachinelearning-qwvwlql2\\lib\\site-packages\\tornado\\gen.py\", line 775, in run\n    yielded = self.gen.send(value)\n  File \"c:\\users\\1023d\\.virtualenvs\\pythonmachinelearning-qwvwlql2\\lib\\site-packages\\ipykernel\\kernelbase.py\", line 374, in dispatch_queue\n    yield self.process_one()\n  File \"c:\\users\\1023d\\.virtualenvs\\pythonmachinelearning-qwvwlql2\\lib\\site-packages\\tornado\\gen.py\", line 250, in wrapper\n    runner = Runner(ctx_run, result, future, yielded)\n  File \"c:\\users\\1023d\\.virtualenvs\\pythonmachinelearning-qwvwlql2\\lib\\site-packages\\tornado\\gen.py\", line 741, in __init__\n    self.ctx_run(self.run)\n  File \"c:\\users\\1023d\\.virtualenvs\\pythonmachinelearning-qwvwlql2\\lib\\site-packages\\tornado\\gen.py\", line 775, in run\n    yielded = self.gen.send(value)\n  File \"c:\\users\\1023d\\.virtualenvs\\pythonmachinelearning-qwvwlql2\\lib\\site-packages\\ipykernel\\kernelbase.py\", line 358, in process_one\n    yield gen.maybe_future(dispatch(*args))\n  File \"c:\\users\\1023d\\.virtualenvs\\pythonmachinelearning-qwvwlql2\\lib\\site-packages\\tornado\\gen.py\", line 234, in wrapper\n    yielded = ctx_run(next, result)\n  File \"c:\\users\\1023d\\.virtualenvs\\pythonmachinelearning-qwvwlql2\\lib\\site-packages\\ipykernel\\kernelbase.py\", line 261, in dispatch_shell\n    yield gen.maybe_future(handler(stream, idents, msg))\n  File \"c:\\users\\1023d\\.virtualenvs\\pythonmachinelearning-qwvwlql2\\lib\\site-packages\\tornado\\gen.py\", line 234, in wrapper\n    yielded = ctx_run(next, result)\n  File \"c:\\users\\1023d\\.virtualenvs\\pythonmachinelearning-qwvwlql2\\lib\\site-packages\\ipykernel\\kernelbase.py\", line 536, in execute_request\n    self.do_execute(\n  File \"c:\\users\\1023d\\.virtualenvs\\pythonmachinelearning-qwvwlql2\\lib\\site-packages\\tornado\\gen.py\", line 234, in wrapper\n    yielded = ctx_run(next, result)\n  File \"c:\\users\\1023d\\.virtualenvs\\pythonmachinelearning-qwvwlql2\\lib\\site-packages\\ipykernel\\ipkernel.py\", line 302, in do_execute\n    res = shell.run_cell(code, store_history=store_history, silent=silent)\n  File \"c:\\users\\1023d\\.virtualenvs\\pythonmachinelearning-qwvwlql2\\lib\\site-packages\\ipykernel\\zmqshell.py\", line 539, in run_cell\n    return super(ZMQInteractiveShell, self).run_cell(*args, **kwargs)\n  File \"c:\\users\\1023d\\.virtualenvs\\pythonmachinelearning-qwvwlql2\\lib\\site-packages\\IPython\\core\\interactiveshell.py\", line 2886, in run_cell\n    result = self._run_cell(\n  File \"c:\\users\\1023d\\.virtualenvs\\pythonmachinelearning-qwvwlql2\\lib\\site-packages\\IPython\\core\\interactiveshell.py\", line 2932, in _run_cell\n    return runner(coro)\n  File \"c:\\users\\1023d\\.virtualenvs\\pythonmachinelearning-qwvwlql2\\lib\\site-packages\\IPython\\core\\async_helpers.py\", line 68, in _pseudo_sync_runner\n    coro.send(None)\n  File \"c:\\users\\1023d\\.virtualenvs\\pythonmachinelearning-qwvwlql2\\lib\\site-packages\\IPython\\core\\interactiveshell.py\", line 3155, in run_cell_async\n    has_raised = await self.run_ast_nodes(code_ast.body, cell_name,\n  File \"c:\\users\\1023d\\.virtualenvs\\pythonmachinelearning-qwvwlql2\\lib\\site-packages\\IPython\\core\\interactiveshell.py\", line 3347, in run_ast_nodes\n    if (await self.run_code(code, result,  async_=asy)):\n  File \"c:\\users\\1023d\\.virtualenvs\\pythonmachinelearning-qwvwlql2\\lib\\site-packages\\IPython\\core\\interactiveshell.py\", line 3427, in run_code\n    exec(code_obj, self.user_global_ns, self.user_ns)\n  File \"<ipython-input-12-28a523a53f0d>\", line 6, in <module>\n    w2 = tf.Variable(2, name='w2')\n  File \"c:\\users\\1023d\\.virtualenvs\\pythonmachinelearning-qwvwlql2\\lib\\site-packages\\tensorflow\\python\\ops\\variables.py\", line 262, in __call__\n    return cls._variable_v2_call(*args, **kwargs)\n  File \"c:\\users\\1023d\\.virtualenvs\\pythonmachinelearning-qwvwlql2\\lib\\site-packages\\tensorflow\\python\\ops\\variables.py\", line 244, in _variable_v2_call\n    return previous_getter(\n  File \"c:\\users\\1023d\\.virtualenvs\\pythonmachinelearning-qwvwlql2\\lib\\site-packages\\tensorflow\\python\\ops\\variables.py\", line 237, in <lambda>\n    previous_getter = lambda **kws: default_variable_creator_v2(None, **kws)\n  File \"c:\\users\\1023d\\.virtualenvs\\pythonmachinelearning-qwvwlql2\\lib\\site-packages\\tensorflow\\python\\ops\\variable_scope.py\", line 2662, in default_variable_creator_v2\n    return resource_variable_ops.ResourceVariable(\n  File \"c:\\users\\1023d\\.virtualenvs\\pythonmachinelearning-qwvwlql2\\lib\\site-packages\\tensorflow\\python\\ops\\variables.py\", line 264, in __call__\n    return super(VariableMetaclass, cls).__call__(*args, **kwargs)\n  File \"c:\\users\\1023d\\.virtualenvs\\pythonmachinelearning-qwvwlql2\\lib\\site-packages\\tensorflow\\python\\ops\\resource_variable_ops.py\", line 1584, in __init__\n    self._init_from_args(\n  File \"c:\\users\\1023d\\.virtualenvs\\pythonmachinelearning-qwvwlql2\\lib\\site-packages\\tensorflow\\python\\ops\\resource_variable_ops.py\", line 1777, in _init_from_args\n    value = gen_resource_variable_ops.read_variable_op(handle, dtype)\n  File \"c:\\users\\1023d\\.virtualenvs\\pythonmachinelearning-qwvwlql2\\lib\\site-packages\\tensorflow\\python\\ops\\gen_resource_variable_ops.py\", line 483, in read_variable_op\n    _, _, _op, _outputs = _op_def_library._apply_op_helper(\n  File \"c:\\users\\1023d\\.virtualenvs\\pythonmachinelearning-qwvwlql2\\lib\\site-packages\\tensorflow\\python\\framework\\op_def_library.py\", line 748, in _apply_op_helper\n    op = g._create_op_internal(op_type_name, inputs, dtypes=None,\n  File \"c:\\users\\1023d\\.virtualenvs\\pythonmachinelearning-qwvwlql2\\lib\\site-packages\\tensorflow\\python\\framework\\ops.py\", line 3557, in _create_op_internal\n    ret = Operation(\n  File \"c:\\users\\1023d\\.virtualenvs\\pythonmachinelearning-qwvwlql2\\lib\\site-packages\\tensorflow\\python\\framework\\ops.py\", line 2045, in __init__\n    self._traceback = tf_stack.extract_stack_for_node(self._c_op)\n"
     ]
    }
   ],
   "source": [
    "with tf.compat.v1.Session(graph=g2) as sess:\n",
    "    sess.run(init_op)\n",
    "    print('w2:', sess.run(w2))"
   ],
   "metadata": {
    "collapsed": false,
    "pycharm": {
     "name": "#%%\n"
    }
   }
  },
  {
   "cell_type": "code",
   "execution_count": 15,
   "outputs": [
    {
     "name": "stdout",
     "output_type": "stream",
     "text": [
      "<tf.Variable 'net_A/layer-1/weights:0' shape=(10, 4) dtype=float32>\n",
      "<tf.Variable 'net_A/layer-2/weights:0' shape=(20, 10) dtype=float32>\n",
      "<tf.Variable 'net_B/layer-1/weights:0' shape=(10, 4) dtype=float32>\n"
     ]
    }
   ],
   "source": [
    "g = tf.Graph()\n",
    "\n",
    "with g.as_default():\n",
    "    with tf.compat.v1.variable_scope('net_A'):\n",
    "        with tf.compat.v1.variable_scope('layer-1'):\n",
    "            w1 = tf.Variable(tf.compat.v1.random_normal(shape=(10, 4)),\n",
    "                             name='weights')\n",
    "        with tf.compat.v1.variable_scope('layer-2'):\n",
    "            w2 = tf.Variable(tf.compat.v1.random_normal(shape=(20, 10)),\n",
    "                             name='weights')\n",
    "    with tf.compat.v1.variable_scope('net_B'):\n",
    "        with tf.compat.v1.variable_scope('layer-1'):\n",
    "            w3 = tf.Variable(tf.compat.v1.random_normal(shape=(10, 4)),\n",
    "                             name='weights')\n",
    "\n",
    "    print(w1)\n",
    "    print(w2)\n",
    "    print(w3)"
   ],
   "metadata": {
    "collapsed": false,
    "pycharm": {
     "name": "#%%\n"
    }
   }
  },
  {
   "cell_type": "code",
   "execution_count": 16,
   "outputs": [],
   "source": [
    "# 分類器を構築するヘルパー関数\n",
    "def build_classifier(data, labels, n_classes=2):\n",
    "    data_shape = data.get_shape().as_list()\n",
    "    weights = tf.compat.v1.get_variable(name='wights',\n",
    "                                        shape=(data_shape[1], n_classes),\n",
    "                                        dtype=tf.float32)\n",
    "    bias = tf.compat.v1.get_variable(name='bias',\n",
    "                                     initializer=tf.zeros(shape=n_classes))\n",
    "    logits = tf.add(tf.matmul(data, weights),\n",
    "                    bias,\n",
    "                    name='logits')\n",
    "    return logits, tf.nn.softmax(logits)\n",
    "\n",
    "\n",
    "# ジェネレータを構築するヘルパー関数\n",
    "def build_generator(data, n_hidden):\n",
    "    data_shape = data.get_shape().as_list()\n",
    "    w1 = tf.Variable(tf.compat.v1.random_normal(shape=(data_shape[1], n_hidden)),\n",
    "                     name='w1')\n",
    "    b1 = tf.Variable(tf.zeros(shape=n_hidden), name='b1')\n",
    "    hidden = tf.add(tf.matmul(data, w1), b1,\n",
    "                    name='hidden_pre_activation')\n",
    "    hidden = tf.nn.relu(hidden, 'hidden_activation')\n",
    "    w2 = tf.Variable(tf.compat.v1.random_normal(shape=(n_hidden, data_shape[1])),\n",
    "                     name='w2')\n",
    "    b2 = tf.Variable(tf.zeros(shape=data_shape[1]), name='b2')\n",
    "    output = tf.add(tf.matmul(hidden, w2), b2, name='output')\n",
    "    return output, tf.nn.sigmoid(output)\n",
    "\n",
    "\n",
    "# 計算グラフの構築\n",
    "batch_size = 64\n",
    "g = tf.Graph()\n",
    "\n",
    "with g.as_default():\n",
    "    tf_X = tf.compat.v1.placeholder(shape=(batch_size, 100),\n",
    "                                    dtype=tf.float32,\n",
    "                                    name='tf_X')\n",
    "\n",
    "    # ジェネレータを構築\n",
    "    with tf.compat.v1.variable_scope('generator'):\n",
    "        gen_out1 = build_generator(data=tf_X,\n",
    "                                   n_hidden=50)\n",
    "\n",
    "    # 分類器を構築\n",
    "    with tf.compat.v1.variable_scope('classifier') as scope:\n",
    "        # 元のデータに対する分類器\n",
    "        cls_out1 = build_classifier(data=tf_X,\n",
    "                                    labels=tf.ones(shape=batch_size))\n",
    "\n",
    "        # 生成されたデータに対して分類器を再利用\n",
    "        scope.reuse_variables()\n",
    "        cls_out2 = build_classifier(data=gen_out1[1],\n",
    "                                    labels=tf.zeros(shape=batch_size))\n",
    "        init_op = tf.compat.v1.global_variables_initializer()"
   ],
   "metadata": {
    "collapsed": false,
    "pycharm": {
     "name": "#%%\n"
    }
   }
  },
  {
   "cell_type": "code",
   "execution_count": 17,
   "outputs": [],
   "source": [
    "g = tf.Graph()\n",
    "\n",
    "with g.as_default():\n",
    "    tf_X = tf.compat.v1.placeholder(shape=(batch_size, 100),\n",
    "                                    dtype=tf.float32,\n",
    "                                    name='tf_X')\n",
    "\n",
    "    # ジェネレータを構築\n",
    "    with tf.compat.v1.variable_scope('generator'):\n",
    "        gen_out1 = build_generator(data=tf_X,\n",
    "                                   n_hidden=50)\n",
    "\n",
    "    # 分類器を構築\n",
    "    with tf.compat.v1.variable_scope('classifier'):\n",
    "        # 元のデータに対する分類器\n",
    "        cls_out1 = build_classifier(data=tf_X,\n",
    "                                    labels=tf.ones(shape=batch_size))\n",
    "\n",
    "    with tf.compat.v1.variable_scope('classifier', reuse=True):\n",
    "        # 生成されたデータに対して分類器を再利用\n",
    "        cls_out2 = build_classifier(data=gen_out1[1],\n",
    "                                    labels=tf.zeros(shape=batch_size))\n",
    "        init_op = tf.compat.v1.global_variables_initializer()"
   ],
   "metadata": {
    "collapsed": false,
    "pycharm": {
     "name": "#%%\n"
    }
   }
  },
  {
   "cell_type": "code",
   "execution_count": 18,
   "outputs": [],
   "source": [
    "g = tf.Graph()\n",
    "\n",
    "with g.as_default():\n",
    "    tf.compat.v1.set_random_seed(123)\n",
    "\n",
    "    tf_x = tf.compat.v1.placeholder(shape=None, dtype=tf.float32, name='tf_x')\n",
    "    tf_y = tf.compat.v1.placeholder(shape=None, dtype=tf.float32, name='tf_y')\n",
    "\n",
    "    weight = tf.Variable(tf.compat.v1.random_normal(shape=(1, 1), stddev=0.25),\n",
    "                         name='weight')\n",
    "    bias = tf.Variable(0.0, name='bias')\n",
    "\n",
    "    y_hat = tf.add(weight * tf_x, bias, name='y_hat')\n",
    "\n",
    "    cost = tf.reduce_mean(tf.square(tf_y - y_hat), name='cost')\n",
    "\n",
    "    optim = tf.compat.v1.train.GradientDescentOptimizer(learning_rate=0.001)\n",
    "    train_op = optim.minimize(cost, name='train_op')\n"
   ],
   "metadata": {
    "collapsed": false,
    "pycharm": {
     "name": "#%%\n"
    }
   }
  },
  {
   "cell_type": "code",
   "execution_count": 30,
   "outputs": [
    {
     "data": {
      "text/plain": "<Figure size 432x288 with 1 Axes>",
      "image/png": "[encoded data removed]"
     },
     "metadata": {
      "needs_background": "light"
     },
     "output_type": "display_data"
    }
   ],
   "source": [
    "import matplotlib.pyplot as plt\n",
    "\n",
    "np.random.seed(0)\n",
    "\n",
    "\n",
    "def make_random_data():\n",
    "    x = np.random.uniform(low=-2, high=4, size=200)\n",
    "    y = []\n",
    "    for t in x:\n",
    "        r = np.random.normal(loc=0.0, scale=(0.5 + t * t / 3), size=None)\n",
    "        y.append(r)\n",
    "    return x, 1.726 * x - 0.84 + np.array(y)\n",
    "\n",
    "\n",
    "x, y = make_random_data()\n",
    "\n",
    "plt.plot(x, y, 'o')\n",
    "plt.show()"
   ],
   "metadata": {
    "collapsed": false,
    "pycharm": {
     "name": "#%%\n"
    }
   }
  },
  {
   "cell_type": "code",
   "execution_count": 31,
   "outputs": [
    {
     "name": "stdout",
     "output_type": "stream",
     "text": [
      "Epoch    0: 10.0121\n",
      "Epoch   50: 7.3338\n",
      "Epoch  100: 6.0509\n",
      "Epoch  150: 5.4111\n",
      "Epoch  200: 5.0714\n",
      "Epoch  250: 4.8749\n",
      "Epoch  300: 4.7494\n",
      "Epoch  350: 4.6613\n",
      "Epoch  400: 4.5946\n",
      "Epoch  450: 4.5414\n"
     ]
    },
    {
     "data": {
      "text/plain": "<Figure size 432x288 with 1 Axes>",
      "image/png": "[encoded data removed]"
     },
     "metadata": {
      "needs_background": "light"
     },
     "output_type": "display_data"
    }
   ],
   "source": [
    "x_train, y_train = x[:100], y[:100]\n",
    "x_test, y_test = x[100:], y[100:]\n",
    "\n",
    "n_epochs = 500\n",
    "training_cost = []\n",
    "\n",
    "with tf.compat.v1.Session(graph=g) as sess:\n",
    "    sess.run(tf.compat.v1.global_variables_initializer())\n",
    "\n",
    "    for e in range(n_epochs):\n",
    "        c, _ = sess.run([cost, train_op],\n",
    "                        feed_dict={tf_x: x_train, tf_y: y_train})\n",
    "        training_cost.append(c)\n",
    "        if not e % 50:\n",
    "            print('Epoch %4d: %.4f' % (e, c))\n",
    "\n",
    "plt.plot(training_cost)\n",
    "plt.show()"
   ],
   "metadata": {
    "collapsed": false,
    "pycharm": {
     "name": "#%%\n"
    }
   }
  },
  {
   "cell_type": "code",
   "execution_count": 32,
   "outputs": [
    {
     "name": "stdout",
     "output_type": "stream",
     "text": [
      "Epoch    0: 10.0121\n",
      "Epoch   50: 7.3338\n",
      "Epoch  100: 6.0509\n",
      "Epoch  150: 5.4111\n",
      "Epoch  200: 5.0714\n",
      "Epoch  250: 4.8749\n",
      "Epoch  300: 4.7494\n",
      "Epoch  350: 4.6613\n",
      "Epoch  400: 4.5946\n",
      "Epoch  450: 4.5414\n"
     ]
    }
   ],
   "source": [
    "\n",
    "n_epochs = 500\n",
    "training_cost = []\n",
    "\n",
    "with tf.compat.v1.Session(graph=g) as sess:\n",
    "    sess.run(tf.compat.v1.global_variables_initializer())\n",
    "\n",
    "    for e in range(n_epochs):\n",
    "        c, _ = sess.run(['cost:0', 'train_op'],\n",
    "                        feed_dict={'tf_x:0': x_train, 'tf_y:0': y_train})\n",
    "        training_cost.append(c)\n",
    "        if not e % 50:\n",
    "            print('Epoch %4d: %.4f' % (e, c))"
   ],
   "metadata": {
    "collapsed": false,
    "pycharm": {
     "name": "#%%\n"
    }
   }
  },
  {
   "cell_type": "code",
   "execution_count": 34,
   "outputs": [
    {
     "ename": "ValueError",
     "evalue": "At least two variables have the same name: bias",
     "output_type": "error",
     "traceback": [
      "\u001B[1;31m---------------------------------------------------------------------------\u001B[0m",
      "\u001B[1;31mValueError\u001B[0m                                Traceback (most recent call last)",
      "\u001B[1;32m<ipython-input-34-fae5c022b90b>\u001B[0m in \u001B[0;36m<module>\u001B[1;34m\u001B[0m\n\u001B[0;32m      1\u001B[0m \u001B[1;32mwith\u001B[0m \u001B[0mg\u001B[0m\u001B[1;33m.\u001B[0m\u001B[0mas_default\u001B[0m\u001B[1;33m(\u001B[0m\u001B[1;33m)\u001B[0m\u001B[1;33m:\u001B[0m\u001B[1;33m\u001B[0m\u001B[1;33m\u001B[0m\u001B[0m\n\u001B[1;32m----> 2\u001B[1;33m     \u001B[0msaver\u001B[0m \u001B[1;33m=\u001B[0m \u001B[0mtf\u001B[0m\u001B[1;33m.\u001B[0m\u001B[0mcompat\u001B[0m\u001B[1;33m.\u001B[0m\u001B[0mv1\u001B[0m\u001B[1;33m.\u001B[0m\u001B[0mtrain\u001B[0m\u001B[1;33m.\u001B[0m\u001B[0mSaver\u001B[0m\u001B[1;33m(\u001B[0m\u001B[1;33m)\u001B[0m\u001B[1;33m\u001B[0m\u001B[1;33m\u001B[0m\u001B[0m\n\u001B[0m\u001B[0;32m      3\u001B[0m \u001B[1;33m\u001B[0m\u001B[0m\n",
      "\u001B[1;32mc:\\users\\1023d\\.virtualenvs\\pythonmachinelearning-qwvwlql2\\lib\\site-packages\\tensorflow\\python\\training\\saver.py\u001B[0m in \u001B[0;36m__init__\u001B[1;34m(self, var_list, reshape, sharded, max_to_keep, keep_checkpoint_every_n_hours, name, restore_sequentially, saver_def, builder, defer_build, allow_empty, write_version, pad_step_number, save_relative_paths, filename)\u001B[0m\n\u001B[0;32m    834\u001B[0m           time.time() + self._keep_checkpoint_every_n_hours * 3600)\n\u001B[0;32m    835\u001B[0m     \u001B[1;32melif\u001B[0m \u001B[1;32mnot\u001B[0m \u001B[0mdefer_build\u001B[0m\u001B[1;33m:\u001B[0m\u001B[1;33m\u001B[0m\u001B[1;33m\u001B[0m\u001B[0m\n\u001B[1;32m--> 836\u001B[1;33m       \u001B[0mself\u001B[0m\u001B[1;33m.\u001B[0m\u001B[0mbuild\u001B[0m\u001B[1;33m(\u001B[0m\u001B[1;33m)\u001B[0m\u001B[1;33m\u001B[0m\u001B[1;33m\u001B[0m\u001B[0m\n\u001B[0m\u001B[0;32m    837\u001B[0m     \u001B[1;32mif\u001B[0m \u001B[0mself\u001B[0m\u001B[1;33m.\u001B[0m\u001B[0msaver_def\u001B[0m\u001B[1;33m:\u001B[0m\u001B[1;33m\u001B[0m\u001B[1;33m\u001B[0m\u001B[0m\n\u001B[0;32m    838\u001B[0m       \u001B[0mself\u001B[0m\u001B[1;33m.\u001B[0m\u001B[0m_check_saver_def\u001B[0m\u001B[1;33m(\u001B[0m\u001B[1;33m)\u001B[0m\u001B[1;33m\u001B[0m\u001B[1;33m\u001B[0m\u001B[0m\n",
      "\u001B[1;32mc:\\users\\1023d\\.virtualenvs\\pythonmachinelearning-qwvwlql2\\lib\\site-packages\\tensorflow\\python\\training\\saver.py\u001B[0m in \u001B[0;36mbuild\u001B[1;34m(self)\u001B[0m\n\u001B[0;32m    846\u001B[0m     \u001B[1;32mif\u001B[0m \u001B[0mcontext\u001B[0m\u001B[1;33m.\u001B[0m\u001B[0mexecuting_eagerly\u001B[0m\u001B[1;33m(\u001B[0m\u001B[1;33m)\u001B[0m\u001B[1;33m:\u001B[0m\u001B[1;33m\u001B[0m\u001B[1;33m\u001B[0m\u001B[0m\n\u001B[0;32m    847\u001B[0m       \u001B[1;32mraise\u001B[0m \u001B[0mRuntimeError\u001B[0m\u001B[1;33m(\u001B[0m\u001B[1;34m\"Use save/restore instead of build in eager mode.\"\u001B[0m\u001B[1;33m)\u001B[0m\u001B[1;33m\u001B[0m\u001B[1;33m\u001B[0m\u001B[0m\n\u001B[1;32m--> 848\u001B[1;33m     \u001B[0mself\u001B[0m\u001B[1;33m.\u001B[0m\u001B[0m_build\u001B[0m\u001B[1;33m(\u001B[0m\u001B[0mself\u001B[0m\u001B[1;33m.\u001B[0m\u001B[0m_filename\u001B[0m\u001B[1;33m,\u001B[0m \u001B[0mbuild_save\u001B[0m\u001B[1;33m=\u001B[0m\u001B[1;32mTrue\u001B[0m\u001B[1;33m,\u001B[0m \u001B[0mbuild_restore\u001B[0m\u001B[1;33m=\u001B[0m\u001B[1;32mTrue\u001B[0m\u001B[1;33m)\u001B[0m\u001B[1;33m\u001B[0m\u001B[1;33m\u001B[0m\u001B[0m\n\u001B[0m\u001B[0;32m    849\u001B[0m \u001B[1;33m\u001B[0m\u001B[0m\n\u001B[0;32m    850\u001B[0m   \u001B[1;32mdef\u001B[0m \u001B[0m_build_eager\u001B[0m\u001B[1;33m(\u001B[0m\u001B[0mself\u001B[0m\u001B[1;33m,\u001B[0m \u001B[0mcheckpoint_path\u001B[0m\u001B[1;33m,\u001B[0m \u001B[0mbuild_save\u001B[0m\u001B[1;33m,\u001B[0m \u001B[0mbuild_restore\u001B[0m\u001B[1;33m)\u001B[0m\u001B[1;33m:\u001B[0m\u001B[1;33m\u001B[0m\u001B[1;33m\u001B[0m\u001B[0m\n",
      "\u001B[1;32mc:\\users\\1023d\\.virtualenvs\\pythonmachinelearning-qwvwlql2\\lib\\site-packages\\tensorflow\\python\\training\\saver.py\u001B[0m in \u001B[0;36m_build\u001B[1;34m(self, checkpoint_path, build_save, build_restore)\u001B[0m\n\u001B[0;32m    874\u001B[0m       \u001B[0mself\u001B[0m\u001B[1;33m.\u001B[0m\u001B[0m_is_empty\u001B[0m \u001B[1;33m=\u001B[0m \u001B[1;32mFalse\u001B[0m\u001B[1;33m\u001B[0m\u001B[1;33m\u001B[0m\u001B[0m\n\u001B[0;32m    875\u001B[0m \u001B[1;33m\u001B[0m\u001B[0m\n\u001B[1;32m--> 876\u001B[1;33m       self.saver_def = self._builder._build_internal(  # pylint: disable=protected-access\n\u001B[0m\u001B[0;32m    877\u001B[0m           \u001B[0mself\u001B[0m\u001B[1;33m.\u001B[0m\u001B[0m_var_list\u001B[0m\u001B[1;33m,\u001B[0m\u001B[1;33m\u001B[0m\u001B[1;33m\u001B[0m\u001B[0m\n\u001B[0;32m    878\u001B[0m           \u001B[0mreshape\u001B[0m\u001B[1;33m=\u001B[0m\u001B[0mself\u001B[0m\u001B[1;33m.\u001B[0m\u001B[0m_reshape\u001B[0m\u001B[1;33m,\u001B[0m\u001B[1;33m\u001B[0m\u001B[1;33m\u001B[0m\u001B[0m\n",
      "\u001B[1;32mc:\\users\\1023d\\.virtualenvs\\pythonmachinelearning-qwvwlql2\\lib\\site-packages\\tensorflow\\python\\training\\saver.py\u001B[0m in \u001B[0;36m_build_internal\u001B[1;34m(self, names_to_saveables, reshape, sharded, max_to_keep, keep_checkpoint_every_n_hours, name, restore_sequentially, filename, build_save, build_restore)\u001B[0m\n\u001B[0;32m    487\u001B[0m                        \" when eager execution is not enabled.\")\n\u001B[0;32m    488\u001B[0m \u001B[1;33m\u001B[0m\u001B[0m\n\u001B[1;32m--> 489\u001B[1;33m     saveables = saveable_object_util.validate_and_slice_inputs(\n\u001B[0m\u001B[0;32m    490\u001B[0m         names_to_saveables)\n\u001B[0;32m    491\u001B[0m     \u001B[1;32mif\u001B[0m \u001B[0mmax_to_keep\u001B[0m \u001B[1;32mis\u001B[0m \u001B[1;32mNone\u001B[0m\u001B[1;33m:\u001B[0m\u001B[1;33m\u001B[0m\u001B[1;33m\u001B[0m\u001B[0m\n",
      "\u001B[1;32mc:\\users\\1023d\\.virtualenvs\\pythonmachinelearning-qwvwlql2\\lib\\site-packages\\tensorflow\\python\\training\\saving\\saveable_object_util.py\u001B[0m in \u001B[0;36mvalidate_and_slice_inputs\u001B[1;34m(names_to_saveables)\u001B[0m\n\u001B[0;32m    353\u001B[0m   \"\"\"\n\u001B[0;32m    354\u001B[0m   \u001B[1;32mif\u001B[0m \u001B[1;32mnot\u001B[0m \u001B[0misinstance\u001B[0m\u001B[1;33m(\u001B[0m\u001B[0mnames_to_saveables\u001B[0m\u001B[1;33m,\u001B[0m \u001B[0mdict\u001B[0m\u001B[1;33m)\u001B[0m\u001B[1;33m:\u001B[0m\u001B[1;33m\u001B[0m\u001B[1;33m\u001B[0m\u001B[0m\n\u001B[1;32m--> 355\u001B[1;33m     \u001B[0mnames_to_saveables\u001B[0m \u001B[1;33m=\u001B[0m \u001B[0mop_list_to_dict\u001B[0m\u001B[1;33m(\u001B[0m\u001B[0mnames_to_saveables\u001B[0m\u001B[1;33m)\u001B[0m\u001B[1;33m\u001B[0m\u001B[1;33m\u001B[0m\u001B[0m\n\u001B[0m\u001B[0;32m    356\u001B[0m \u001B[1;33m\u001B[0m\u001B[0m\n\u001B[0;32m    357\u001B[0m   \u001B[0msaveables\u001B[0m \u001B[1;33m=\u001B[0m \u001B[1;33m[\u001B[0m\u001B[1;33m]\u001B[0m\u001B[1;33m\u001B[0m\u001B[1;33m\u001B[0m\u001B[0m\n",
      "\u001B[1;32mc:\\users\\1023d\\.virtualenvs\\pythonmachinelearning-qwvwlql2\\lib\\site-packages\\tensorflow\\python\\training\\saving\\saveable_object_util.py\u001B[0m in \u001B[0;36mop_list_to_dict\u001B[1;34m(op_list, convert_variable_to_tensor)\u001B[0m\n\u001B[0;32m    309\u001B[0m           \u001B[0mname\u001B[0m \u001B[1;33m=\u001B[0m \u001B[0mvar\u001B[0m\u001B[1;33m.\u001B[0m\u001B[0mop\u001B[0m\u001B[1;33m.\u001B[0m\u001B[0mname\u001B[0m\u001B[1;33m\u001B[0m\u001B[1;33m\u001B[0m\u001B[0m\n\u001B[0;32m    310\u001B[0m         \u001B[1;32mif\u001B[0m \u001B[0mname\u001B[0m \u001B[1;32min\u001B[0m \u001B[0mnames_to_saveables\u001B[0m\u001B[1;33m:\u001B[0m\u001B[1;33m\u001B[0m\u001B[1;33m\u001B[0m\u001B[0m\n\u001B[1;32m--> 311\u001B[1;33m           raise ValueError(\"At least two variables have the same name: %s\" %\n\u001B[0m\u001B[0;32m    312\u001B[0m                            name)\n\u001B[0;32m    313\u001B[0m         \u001B[0mnames_to_saveables\u001B[0m\u001B[1;33m[\u001B[0m\u001B[0mname\u001B[0m\u001B[1;33m]\u001B[0m \u001B[1;33m=\u001B[0m \u001B[0mvar\u001B[0m\u001B[1;33m\u001B[0m\u001B[1;33m\u001B[0m\u001B[0m\n",
      "\u001B[1;31mValueError\u001B[0m: At least two variables have the same name: bias"
     ]
    }
   ],
   "source": [
    "with g.as_default():\n",
    "    saver = tf.compat.v1.train.Saver()"
   ],
   "metadata": {
    "collapsed": false,
    "pycharm": {
     "name": "#%%\n"
    }
   }
  },
  {
   "cell_type": "code",
   "execution_count": 35,
   "outputs": [
    {
     "name": "stdout",
     "output_type": "stream",
     "text": [
      "Epochs    0: 0010\n",
      "Epochs   50: 0007\n",
      "Epochs  100: 0006\n",
      "Epochs  150: 0005\n",
      "Epochs  200: 0005\n",
      "Epochs  250: 0004\n",
      "Epochs  300: 0004\n",
      "Epochs  350: 0004\n",
      "Epochs  400: 0004\n",
      "Epochs  450: 0004\n"
     ]
    }
   ],
   "source": [
    "n_epochs = 500\n",
    "training_costs = []\n",
    "\n",
    "with tf.compat.v1.Session(graph=g) as sess:\n",
    "    sess.run(tf.compat.v1.global_variables_initializer())\n",
    "\n",
    "    for e in range(n_epochs):\n",
    "        c, _ = sess.run([cost, train_op],\n",
    "                        feed_dict={tf_x: x_train,\n",
    "                                   tf_y: y_train})\n",
    "        training_costs.append(c)\n",
    "        if not e % 50:\n",
    "            print('Epochs %4d: %.4d' % (e, c))\n",
    "\n",
    "    saver.save(sess, './trained-model')"
   ],
   "metadata": {
    "collapsed": false,
    "pycharm": {
     "name": "#%%\n"
    }
   }
  },
  {
   "cell_type": "code",
   "execution_count": 36,
   "outputs": [],
   "source": [
    "with tf.compat.v1.Session(graph=g) as sess:\n",
    "    new_saver = tf.compat.v1.train.import_meta_graph('./trained-model.meta')"
   ],
   "metadata": {
    "collapsed": false,
    "pycharm": {
     "name": "#%%\n"
    }
   }
  },
  {
   "cell_type": "code",
   "execution_count": 37,
   "outputs": [
    {
     "name": "stdout",
     "output_type": "stream",
     "text": [
      "INFO:tensorflow:Restoring parameters from ./trained-model\n"
     ]
    }
   ],
   "source": [
    "g2 = tf.Graph()\n",
    "\n",
    "with tf.compat.v1.Session(graph=g2) as sess:\n",
    "    new_saver = tf.compat.v1.train.import_meta_graph('./trained-model.meta')\n",
    "    new_saver.restore(sess, './trained-model')\n",
    "    y_pred = sess.run('y_hat:0', feed_dict={'tf_x:0': x_test})"
   ],
   "metadata": {
    "collapsed": false,
    "pycharm": {
     "name": "#%%\n"
    }
   }
  },
  {
   "cell_type": "code",
   "execution_count": 38,
   "outputs": [
    {
     "name": "stdout",
     "output_type": "stream",
     "text": [
      "INFO:tensorflow:Restoring parameters from ./trained-model\n"
     ]
    },
    {
     "data": {
      "text/plain": "<Figure size 432x288 with 1 Axes>",
      "image/png": "[encoded data removed]"
     },
     "metadata": {
      "needs_background": "light"
     },
     "output_type": "display_data"
    }
   ],
   "source": [
    "x_arr = np.arange(-2, 4, 0.1)\n",
    "\n",
    "g2 = tf.Graph()\n",
    "\n",
    "with tf.compat.v1.Session(graph=g) as sess:\n",
    "    new_saver = tf.compat.v1.train.import_meta_graph('./trained-model.meta')\n",
    "    new_saver.restore(sess, './trained-model')\n",
    "    y_arr = sess.run('y_hat:0', feed_dict={'tf_x:0': x_arr})\n",
    "\n",
    "plt.plot(x_train, y_train, 'bo')\n",
    "plt.plot(x_test, y_test, 'bo', alpha=0.3)\n",
    "plt.plot(x_arr, y_arr.T[:, 0], '-r', lw=3)\n",
    "plt.show()"
   ],
   "metadata": {
    "collapsed": false,
    "pycharm": {
     "name": "#%%\n"
    }
   }
  },
  {
   "cell_type": "code",
   "execution_count": 39,
   "outputs": [
    {
     "name": "stdout",
     "output_type": "stream",
     "text": [
      "Tensor(\"T1:0\", shape=(3, 4), dtype=float64)\n",
      "Shape of T1 is (3, 4)\n",
      "<tf.Variable 'Variable:0' shape=(3, 4) dtype=float32>\n",
      "<tf.Variable 'Variable_1:0' shape=(3,) dtype=float32>\n"
     ]
    }
   ],
   "source": [
    "g = tf.Graph()\n",
    "\n",
    "with g.as_default():\n",
    "    arr = np.array([[1., 2., 3., 3.5],\n",
    "                    [4., 5., 6., 6.5],\n",
    "                    [7., 8., 9., 9.5]])\n",
    "    T1 = tf.constant(arr, name='T1')\n",
    "    print(T1)\n",
    "    s = T1.get_shape()\n",
    "    print('Shape of T1 is', s)\n",
    "    T2 = tf.Variable(tf.compat.v1.random_normal(shape=s))\n",
    "    print(T2)\n",
    "    T3 = tf.Variable(tf.compat.v1.random_normal(shape=(s.as_list()[0],)))\n",
    "    print(T3)"
   ],
   "metadata": {
    "collapsed": false,
    "pycharm": {
     "name": "#%%\n"
    }
   }
  },
  {
   "cell_type": "code",
   "execution_count": 44,
   "outputs": [
    {
     "name": "stdout",
     "output_type": "stream",
     "text": [
      "Tensor(\"T4:0\", shape=(1, 1, 12), dtype=float64)\n",
      "Tensor(\"T5:0\", shape=(1, 3, 4), dtype=float64)\n"
     ]
    }
   ],
   "source": [
    "with g.as_default():\n",
    "    T4 = tf.reshape(T1, shape=[1, 1, -1], name='T4')\n",
    "    print(T4)\n",
    "    T5 = tf.reshape(T1, shape=[1, 3, -1], name='T5')\n",
    "    print(T5)"
   ],
   "metadata": {
    "collapsed": false,
    "pycharm": {
     "name": "#%%\n"
    }
   }
  },
  {
   "cell_type": "code",
   "execution_count": 45,
   "outputs": [
    {
     "name": "stdout",
     "output_type": "stream",
     "text": [
      "[[[1.  2.  3.  3.5 4.  5.  6.  6.5 7.  8.  9.  9.5]]]\n",
      "\n",
      "[[[1.  2.  3.  3.5]\n",
      "  [4.  5.  6.  6.5]\n",
      "  [7.  8.  9.  9.5]]]\n"
     ]
    }
   ],
   "source": [
    "with tf.compat.v1.Session(graph=g) as sess:\n",
    "    print(sess.run(T4))\n",
    "    print()\n",
    "    print(sess.run(T5))"
   ],
   "metadata": {
    "collapsed": false,
    "pycharm": {
     "name": "#%%\n"
    }
   }
  },
  {
   "cell_type": "code",
   "execution_count": 46,
   "outputs": [
    {
     "name": "stdout",
     "output_type": "stream",
     "text": [
      "Tensor(\"T6:0\", shape=(4, 3, 1), dtype=float64)\n",
      "Tensor(\"T7:0\", shape=(1, 4, 3), dtype=float64)\n"
     ]
    }
   ],
   "source": [
    "with g.as_default():\n",
    "    T6 = tf.transpose(T5, perm=[2, 1, 0], name='T6')\n",
    "    print(T6)\n",
    "    T7 = tf.transpose(T5, perm=[0, 2, 1], name='T7')\n",
    "    print(T7)"
   ],
   "metadata": {
    "collapsed": false,
    "pycharm": {
     "name": "#%%\n"
    }
   }
  },
  {
   "cell_type": "code",
   "execution_count": 47,
   "outputs": [
    {
     "name": "stdout",
     "output_type": "stream",
     "text": [
      "[<tf.Tensor 'T8:0' shape=(1, 3, 2) dtype=float64>, <tf.Tensor 'T8:1' shape=(1, 3, 2) dtype=float64>]\n"
     ]
    }
   ],
   "source": [
    "with g.as_default():\n",
    "    t5_splt = tf.split(T5, num_or_size_splits=2, axis=2, name='T8')\n",
    "    print(t5_splt)"
   ],
   "metadata": {
    "collapsed": false,
    "pycharm": {
     "name": "#%%\n"
    }
   }
  },
  {
   "cell_type": "code",
   "execution_count": 50,
   "outputs": [
    {
     "name": "stdout",
     "output_type": "stream",
     "text": [
      "Tensor(\"t1:0\", shape=(5, 1), dtype=float32)\n",
      "Tensor(\"t2:0\", shape=(5, 1), dtype=float32)\n"
     ]
    }
   ],
   "source": [
    "g = tf.Graph()\n",
    "\n",
    "with g.as_default():\n",
    "    t1 = tf.ones(shape=(5, 1), dtype=tf.float32, name='t1')\n",
    "    t2 = tf.zeros(shape=(5, 1), dtype=tf.float32, name='t2')\n",
    "    print(t1)\n",
    "    print(t2)"
   ],
   "metadata": {
    "collapsed": false,
    "pycharm": {
     "name": "#%%\n"
    }
   }
  },
  {
   "cell_type": "code",
   "execution_count": 51,
   "outputs": [
    {
     "name": "stdout",
     "output_type": "stream",
     "text": [
      "Tensor(\"t3:0\", shape=(10, 1), dtype=float32)\n",
      "Tensor(\"t4:0\", shape=(5, 2), dtype=float32)\n"
     ]
    }
   ],
   "source": [
    "with g.as_default():\n",
    "    t3 = tf.compat.v1.concat([t1, t2], axis=0, name='t3')\n",
    "    print(t3)\n",
    "    t4 = tf.compat.v1.concat([t1, t2], axis=1, name='t4')\n",
    "    print(t4)"
   ],
   "metadata": {
    "collapsed": false,
    "pycharm": {
     "name": "#%%\n"
    }
   }
  },
  {
   "cell_type": "code",
   "execution_count": 52,
   "outputs": [
    {
     "name": "stdout",
     "output_type": "stream",
     "text": [
      "[[1.]\n",
      " [1.]\n",
      " [1.]\n",
      " [1.]\n",
      " [1.]\n",
      " [0.]\n",
      " [0.]\n",
      " [0.]\n",
      " [0.]\n",
      " [0.]]\n",
      "\n",
      "[[1. 0.]\n",
      " [1. 0.]\n",
      " [1. 0.]\n",
      " [1. 0.]\n",
      " [1. 0.]]\n"
     ]
    }
   ],
   "source": [
    "with tf.compat.v1.Session(graph=g) as sess:\n",
    "    print(sess.run(t3))\n",
    "    print()\n",
    "    print(sess.run(t4))"
   ],
   "metadata": {
    "collapsed": false,
    "pycharm": {
     "name": "#%%\n"
    }
   }
  },
  {
   "cell_type": "code",
   "execution_count": 53,
   "outputs": [
    {
     "name": "stdout",
     "output_type": "stream",
     "text": [
      "Object: Tensor(\"result_add:0\", dtype=float32)\n"
     ]
    }
   ],
   "source": [
    "x, y = 1.0, 2.0\n",
    "g = tf.Graph()\n",
    "\n",
    "with g.as_default():\n",
    "    tf_x = tf.compat.v1.placeholder(dtype=tf.float32, shape=None, name='tf_x')\n",
    "    tf_y = tf.compat.v1.placeholder(dtype=tf.float32, shape=None, name='tf_y')\n",
    "    if x < y:\n",
    "        res = tf.add(tf_x, tf_y, name='result_add')\n",
    "    else:\n",
    "        res = tf.subtract(tf_x, tf_y, name='result_sub')\n",
    "    print('Object:', res)"
   ],
   "metadata": {
    "collapsed": false,
    "pycharm": {
     "name": "#%%\n"
    }
   }
  },
  {
   "cell_type": "code",
   "execution_count": 54,
   "outputs": [
    {
     "name": "stdout",
     "output_type": "stream",
     "text": [
      "x , y: True -> Result: 3.0\n",
      "x , y: False -> Result: 3.0\n"
     ]
    }
   ],
   "source": [
    "with tf.compat.v1.Session(graph=g) as sess:\n",
    "    print('x , y: %s -> Result:' % (x < y),\n",
    "          res.eval(feed_dict={'tf_x:0': x, 'tf_y:0': y}))\n",
    "    x, y = 2.0, 1.0\n",
    "    print('x , y: %s -> Result:' % (x < y),\n",
    "          res.eval(feed_dict={'tf_x:0': x, 'tf_y:0': y}))"
   ],
   "metadata": {
    "collapsed": false,
    "pycharm": {
     "name": "#%%\n"
    }
   }
  },
  {
   "cell_type": "code",
   "execution_count": 55,
   "outputs": [
    {
     "name": "stdout",
     "output_type": "stream",
     "text": [
      "Object: Tensor(\"cond/Identity:0\", dtype=float32)\n"
     ]
    }
   ],
   "source": [
    "x, y = 1.0, 2.0\n",
    "g = tf.Graph()\n",
    "\n",
    "with g.as_default():\n",
    "    tf_x = tf.compat.v1.placeholder(dtype=tf.float32, shape=None, name='tf_x')\n",
    "    tf_y = tf.compat.v1.placeholder(dtype=tf.float32, shape=None, name='tf_y')\n",
    "    res = tf.cond(tf_x < tf_y,\n",
    "                  lambda: tf.add(tf_x, tf_y, name='result_add'),\n",
    "                  lambda: tf.subtract(tf_x, tf_y, name='result_sub'))\n",
    "    print('Object:', res)"
   ],
   "metadata": {
    "collapsed": false,
    "pycharm": {
     "name": "#%%\n"
    }
   }
  },
  {
   "cell_type": "code",
   "execution_count": 56,
   "outputs": [
    {
     "name": "stdout",
     "output_type": "stream",
     "text": [
      "x , y: True -> Result: 3.0\n",
      "x , y: False -> Result: 1.0\n"
     ]
    }
   ],
   "source": [
    "with tf.compat.v1.Session(graph=g) as sess:\n",
    "    print('x , y: %s -> Result:' % (x < y),\n",
    "          res.eval(feed_dict={'tf_x:0': x, 'tf_y:0': y}))\n",
    "    x, y = 2.0, 1.0\n",
    "    print('x , y: %s -> Result:' % (x < y),\n",
    "          res.eval(feed_dict={'tf_x:0': x, 'tf_y:0': y}))"
   ],
   "metadata": {
    "collapsed": false,
    "pycharm": {
     "name": "#%%\n"
    }
   }
  },
  {
   "cell_type": "code",
   "execution_count": 57,
   "outputs": [],
   "source": [
    "batch_size = 64\n",
    "g = tf.Graph()\n",
    "\n",
    "with g.as_default():\n",
    "    tf_X = tf.compat.v1.placeholder(shape=(batch_size, 100),\n",
    "                                    dtype=tf.float32,\n",
    "                                    name='tf_X')\n",
    "\n",
    "    # ジェネレータを構築\n",
    "    with tf.compat.v1.variable_scope('generator'):\n",
    "        gen_out1 = build_generator(data=tf_X,\n",
    "                                   n_hidden=50)\n",
    "\n",
    "    # 分類器を構築\n",
    "    with tf.compat.v1.variable_scope('classifier') as scope:\n",
    "        # 元のデータに対する分類器\n",
    "        cls_out1 = build_classifier(data=tf_X,\n",
    "                                    labels=tf.ones(shape=batch_size))\n",
    "\n",
    "        # 生成されたデータに対して分類器を再利用\n",
    "        scope.reuse_variables()\n",
    "        cls_out2 = build_classifier(data=gen_out1[1],\n",
    "                                    labels=tf.zeros(shape=batch_size))"
   ],
   "metadata": {
    "collapsed": false,
    "pycharm": {
     "name": "#%%\n"
    }
   }
  },
  {
   "cell_type": "code",
   "execution_count": 60,
   "outputs": [],
   "source": [
    "with tf.compat.v1.session(graph=g) as sess:\n",
    "    sess.run(tf.compat.v1.global_variables_initializer())\n",
    "    file_writer = tf.compat.v1.summary.filewriter(logdir='./logs/', graph=g)"
   ],
   "metadata": {
    "collapsed": false,
    "pycharm": {
     "name": "#%%\n"
    }
   }
  },
  {
   "cell_type": "code",
   "execution_count": 59,
   "outputs": [
    {
     "name": "stdout",
     "output_type": "stream",
     "text": [
      "Help on function create_file_writer_v2 in module tensorflow.python.ops.summary_ops_v2:\n",
      "\n",
      "create_file_writer_v2(logdir, max_queue=None, flush_millis=None, filename_suffix=None, name=None)\n",
      "    Creates a summary file writer for the given log directory.\n",
      "    \n",
      "    Args:\n",
      "      logdir: a string specifying the directory in which to write an event file.\n",
      "      max_queue: the largest number of summaries to keep in a queue; will\n",
      "       flush once the queue gets bigger than this. Defaults to 10.\n",
      "      flush_millis: the largest interval between flushes. Defaults to 120,000.\n",
      "      filename_suffix: optional suffix for the event file name. Defaults to `.v2`.\n",
      "      name: a name for the op that creates the writer.\n",
      "    \n",
      "    Returns:\n",
      "      A SummaryWriter object.\n",
      "\n"
     ]
    }
   ],
   "source": [],
   "metadata": {
    "collapsed": false,
    "pycharm": {
     "name": "#%%\n"
    }
   }
  }
 ],
 "metadata": {
  "kernelspec": {
   "display_name": "Python 3",
   "language": "python",
   "name": "python3"
  },
  "language_info": {
   "codemirror_mode": {
    "name": "ipython",
    "version": 2
   },
   "file_extension": ".py",
   "mimetype": "text/x-python",
   "name": "python",
   "nbconvert_exporter": "python",
   "pygments_lexer": "ipython2",
   "version": "2.7.6"
  }
 },
 "nbformat": 4,
 "nbformat_minor": 0
}