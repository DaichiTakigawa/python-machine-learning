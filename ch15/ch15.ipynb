{
 "cells": [
  {
   "cell_type": "code",
   "execution_count": 34,
   "metadata": {
    "collapsed": true
   },
   "outputs": [],
   "source": [
    "import numpy as np\n",
    "\n",
    "\n",
    "def conv1d(x, w, p=0, s=1):\n",
    "    w_rot = np.array(w[::-1])\n",
    "    x_padded = np.array(x)\n",
    "    if p > 0:\n",
    "        zero_pad = np.zeros(shape=p)\n",
    "        x_padded = np.concatenate([zero_pad, x_padded, zero_pad])\n",
    "    res = []\n",
    "    for i in range(0, int(len(x) / s), s):\n",
    "        res.append(np.sum(x_padded[i:i + w_rot.shape[0]] * w_rot))\n",
    "    return np.array(res)"
   ]
  },
  {
   "cell_type": "code",
   "execution_count": 35,
   "outputs": [
    {
     "name": "stdout",
     "output_type": "stream",
     "text": [
      "Conv1d Implementation: [ 5. 14. 16. 26. 24. 34. 19. 22.]\n",
      "Numpy Results: [ 5 14 16 26 24 34 19 22]\n"
     ]
    }
   ],
   "source": [
    "x = [1, 3, 2, 4, 5, 6, 1, 3]\n",
    "w = [1, 0, 3, 1, 2]\n",
    "print('Conv1d Implementation:', conv1d(x, w, p=2, s=1))\n",
    "print('Numpy Results:', np.convolve(x, w, mode='same'))"
   ],
   "metadata": {
    "collapsed": false,
    "pycharm": {
     "name": "#%%\n"
    }
   }
  },
  {
   "cell_type": "code",
   "execution_count": 36,
   "outputs": [
    {
     "name": "stdout",
     "output_type": "stream",
     "text": [
      "Conv2d Implementation: \n",
      " [[11. 25. 32. 13.]\n",
      " [19. 25. 24. 13.]\n",
      " [13. 28. 25. 17.]\n",
      " [11. 17. 14.  9.]]\n",
      "Scipy Results: \n",
      " [[11 25 32 13]\n",
      " [19 25 24 13]\n",
      " [13 28 25 17]\n",
      " [11 17 14  9]]\n"
     ]
    }
   ],
   "source": [
    "import scipy.signal\n",
    "\n",
    "\n",
    "def conv2d(X, W, p=(0, 0), s=(1, 1)):\n",
    "    W_rot = np.array(W)[::-1, ::-1]\n",
    "    X_orig = np.array(X)\n",
    "    n1 = X_orig.shape[0] + 2 * p[0]\n",
    "    n2 = X_orig.shape[1] + 2 * p[1]\n",
    "    X_padded = np.zeros(shape=(n1, n2))\n",
    "    X_padded[p[0]:p[0] + X_orig.shape[0], p[1]:p[1] + X_orig.shape[1]] = X_orig\n",
    "    res = []\n",
    "    for i in range(0, int((X_padded.shape[0] - W_rot.shape[0]) / s[0]) + 1, s[0]):\n",
    "        res.append([])\n",
    "        for j in range(0, int((X_padded.shape[1] - W_rot.shape[1]) / s[1]) + 1, s[1]):\n",
    "            X_sub = X_padded[i:i + W_rot.shape[0], j:j + W_rot.shape[1]]\n",
    "            res[-1].append(np.sum(X_sub * W_rot))\n",
    "    return np.array(res)\n",
    "\n",
    "\n",
    "X = [[1, 3, 2, 4], [5, 6, 1, 3], [1, 2, 0, 2], [3, 4, 3, 2]]\n",
    "W = [[1, 0, 3], [1, 2, 1], [0, 1, 1]]\n",
    "print('Conv2d Implementation: \\n', conv2d(X, W, p=(1, 1), s=(1, 1)))\n",
    "print('Scipy Results: \\n', scipy.signal.convolve2d(X, W, mode='same'))"
   ],
   "metadata": {
    "collapsed": false,
    "pycharm": {
     "name": "#%%\n"
    }
   }
  },
  {
   "cell_type": "code",
   "execution_count": 37,
   "outputs": [],
   "source": [
    "import os\n",
    "import struct\n",
    "import numpy as np\n",
    "\n",
    "\n",
    "def load_mnist(path, kind='train'):\n",
    "    labels_path = os.path.join(path, '%s-labels.idx1-ubyte' % kind)\n",
    "    images_path = os.path.join(path, '%s-images.idx3-ubyte' % kind)\n",
    "\n",
    "    with open(labels_path, 'rb') as lbpath:\n",
    "        magic, n = struct.unpack('>II', lbpath.read(8))\n",
    "        labels = np.fromfile(lbpath, dtype=np.uint8)\n",
    "\n",
    "    with open(images_path, 'rb')  as imgpath:\n",
    "        magic, num, rows, cols = struct.unpack(\">IIII\", imgpath.read(16))\n",
    "        images = np.fromfile(imgpath, dtype=np.uint8).reshape(len(labels), 784)\n",
    "        images = ((images / 255.) - .5) * 2\n",
    "\n",
    "    return images, labels"
   ],
   "metadata": {
    "collapsed": false,
    "pycharm": {
     "name": "#%%\n"
    }
   }
  },
  {
   "cell_type": "code",
   "execution_count": 38,
   "outputs": [
    {
     "name": "stdout",
     "output_type": "stream",
     "text": [
      "Rows: 60000, columns: 784\n",
      "Rows: 10000, columns: 784\n"
     ]
    }
   ],
   "source": [
    "X_data, y_data = load_mnist('mnist', kind='train')\n",
    "print('Rows: %d, columns: %d' % (X_data.shape[0], X_data.shape[1]))\n",
    "\n",
    "X_test, y_test = load_mnist('mnist', kind='t10k')\n",
    "print('Rows: %d, columns: %d' % (X_test.shape[0], X_test.shape[1]))"
   ],
   "metadata": {
    "collapsed": false,
    "pycharm": {
     "name": "#%%\n"
    }
   }
  },
  {
   "cell_type": "code",
   "execution_count": 39,
   "outputs": [
    {
     "name": "stdout",
     "output_type": "stream",
     "text": [
      "Training:    (50000, 784) (50000,)\n",
      "Validation:  (10000, 784) (10000,)\n",
      "Test Set:    (10000, 784) (10000,)\n"
     ]
    }
   ],
   "source": [
    "X_train, y_train = X_data[:50000, :], y_data[:50000]\n",
    "X_valid, y_valid = X_data[50000:, :], y_data[50000:]\n",
    "print('Training:   ', X_train.shape, y_train.shape)\n",
    "print('Validation: ', X_valid.shape, y_valid.shape)\n",
    "print('Test Set:   ', X_test.shape, y_test.shape)"
   ],
   "metadata": {
    "collapsed": false,
    "pycharm": {
     "name": "#%%\n"
    }
   }
  },
  {
   "cell_type": "code",
   "execution_count": 40,
   "outputs": [],
   "source": [
    "def batch_generator(X, y, batch_size=64, shuffle=False, random_seed=None):\n",
    "    idx = np.arange(y.shape[0])\n",
    "\n",
    "    if shuffle:\n",
    "        rng = np.random.RandomState(random_seed)\n",
    "        rng.shuffle(idx)\n",
    "        X = X[idx]\n",
    "        y = y[idx]\n",
    "\n",
    "    for i in range(0, X.shape[0], batch_size):\n",
    "        yield X[i:i + batch_size, :], y[i:i + batch_size]"
   ],
   "metadata": {
    "collapsed": false,
    "pycharm": {
     "name": "#%%\n"
    }
   }
  },
  {
   "cell_type": "code",
   "execution_count": 41,
   "outputs": [],
   "source": [
    "mean_vals = np.mean(X_train, axis=0)\n",
    "std_val = np.std(X_train)\n",
    "X_train_centered = (X_train - mean_vals) / std_val\n",
    "X_valid_centered = (X_valid - mean_vals) / std_val\n",
    "X_test_centered = (X_test - mean_vals) / std_val"
   ],
   "metadata": {
    "collapsed": false,
    "pycharm": {
     "name": "#%%\n"
    }
   }
  },
  {
   "cell_type": "code",
   "execution_count": 42,
   "outputs": [],
   "source": [
    "import tensorflow as tf\n",
    "\n",
    "\n",
    "def conv_layer(input_tensor, name, kernel_size, n_output_channels,\n",
    "               padding_mode='SAME', strides=(1, 1, 1, 1)):\n",
    "    with tf.compat.v1.variable_scope(name):\n",
    "        input_shape = input_tensor.get_shape().as_list()\n",
    "        n_input_channels = input_shape[-1]\n",
    "        weights_shape = (list(kernel_size) + [n_input_channels, n_output_channels])\n",
    "        weights = tf.compat.v1.get_variable(name='_weights', shape=weights_shape)\n",
    "        print(weights)\n",
    "        biases = tf.compat.v1.get_variable(name='_biases',\n",
    "                                           initializer=tf.zeros(shape=[n_output_channels]))\n",
    "        print(biases)\n",
    "        conv = tf.nn.conv2d(input=input_tensor,\n",
    "                            filters=weights,\n",
    "                            strides=strides,\n",
    "                            padding=padding_mode)\n",
    "        print(conv)\n",
    "        conv = tf.nn.bias_add(conv, biases, name='net_pre-activation')\n",
    "        print(conv)\n",
    "        conv = tf.nn.relu(conv, name='activation')\n",
    "        print(conv)\n",
    "\n",
    "        return conv"
   ],
   "metadata": {
    "collapsed": false,
    "pycharm": {
     "name": "#%%\n"
    }
   }
  },
  {
   "cell_type": "code",
   "execution_count": 43,
   "outputs": [
    {
     "name": "stdout",
     "output_type": "stream",
     "text": [
      "<tf.Variable 'convtest/_weights:0' shape=(3, 3, 1, 32) dtype=float32>\n",
      "<tf.Variable 'convtest/_biases:0' shape=(32,) dtype=float32>\n",
      "Tensor(\"convtest/Conv2D:0\", shape=(None, 28, 28, 32), dtype=float32)\n",
      "Tensor(\"convtest/net_pre-activation:0\", shape=(None, 28, 28, 32), dtype=float32)\n",
      "Tensor(\"convtest/activation:0\", shape=(None, 28, 28, 32), dtype=float32)\n"
     ]
    }
   ],
   "source": [
    "g = tf.Graph()\n",
    "\n",
    "with g.as_default():\n",
    "    x = tf.compat.v1.placeholder(tf.float32, shape=[None, 28, 28, 1])\n",
    "    conv_layer(x, name='convtest', kernel_size=(3, 3), n_output_channels=32)\n",
    "\n",
    "del g, x"
   ],
   "metadata": {
    "collapsed": false,
    "pycharm": {
     "name": "#%%\n"
    }
   }
  },
  {
   "cell_type": "code",
   "execution_count": 44,
   "outputs": [],
   "source": [
    "def fc_layer(input_tensor, name, n_output_units, activation_fn=None):\n",
    "    with tf.compat.v1.variable_scope(name):\n",
    "        input_shape = input_tensor.get_shape().as_list()[1:]\n",
    "        n_input_units = np.prod(input_shape)\n",
    "        if len(input_shape) > 1:\n",
    "            input_tensor = tf.reshape(input_tensor, shape=(-1, n_input_units))\n",
    "\n",
    "        weights_shape = [n_input_units, n_output_units]\n",
    "        weights = tf.compat.v1.get_variable(name='_weights', shape=weights_shape)\n",
    "        print(weights)\n",
    "        biases = tf.compat.v1.get_variable(name='_biases',\n",
    "                                           initializer=tf.zeros(shape=[n_output_units]))\n",
    "        print(biases)\n",
    "        layer = tf.matmul(input_tensor, weights)\n",
    "        print(layer)\n",
    "        layer = tf.nn.bias_add(layer, biases, name='net_pre-activation')\n",
    "        print(layer)\n",
    "        if activation_fn is None:\n",
    "            return layer\n",
    "        layer = activation_fn(layer, name='activation')\n",
    "        print(layer)\n",
    "        return layer"
   ],
   "metadata": {
    "collapsed": false,
    "pycharm": {
     "name": "#%%\n"
    }
   }
  },
  {
   "cell_type": "code",
   "execution_count": 45,
   "outputs": [
    {
     "name": "stdout",
     "output_type": "stream",
     "text": [
      "<tf.Variable 'fctest/_weights:0' shape=(784, 32) dtype=float32>\n",
      "<tf.Variable 'fctest/_biases:0' shape=(32,) dtype=float32>\n",
      "Tensor(\"fctest/MatMul:0\", shape=(None, 32), dtype=float32)\n",
      "Tensor(\"fctest/net_pre-activation:0\", shape=(None, 32), dtype=float32)\n",
      "Tensor(\"fctest/activation:0\", shape=(None, 32), dtype=float32)\n"
     ]
    }
   ],
   "source": [
    "g = tf.Graph()\n",
    "with g.as_default():\n",
    "    x = tf.compat.v1.placeholder(tf.float32, shape=[None, 28, 28, 1])\n",
    "    fc_layer(x, name='fctest', n_output_units=32, activation_fn=tf.nn.relu)\n",
    "\n",
    "del g, x"
   ],
   "metadata": {
    "collapsed": false,
    "pycharm": {
     "name": "#%%\n"
    }
   }
  },
  {
   "cell_type": "code",
   "execution_count": 46,
   "outputs": [],
   "source": [
    "def build_cnn():\n",
    "    tf_x = tf.compat.v1.placeholder(tf.float32, shape=[None, 784], name='tf_x')\n",
    "    tf_y = tf.compat.v1.placeholder(tf.int32, shape=[None], name='tf_y')\n",
    "\n",
    "    tf_x_image = tf.reshape(tf_x, shape=[-1, 28, 28, 1], name='tf_x_reshaped')\n",
    "\n",
    "    tf_y_onehot = tf.one_hot(indices=tf_y, depth=10, dtype=tf.float32,\n",
    "                             name='tf_y_onehot')\n",
    "\n",
    "    # 第1層:畳み込み層1\n",
    "    print('\\nBuilding 1st layer: ')\n",
    "    h1 = conv_layer(tf_x_image, name='conv_1',\n",
    "                    kernel_size=(5, 5),\n",
    "                    padding_mode='VALID',\n",
    "                    n_output_channels=32)\n",
    "\n",
    "    # 最大値プーリング\n",
    "    h1_pool = tf.nn.max_pool(h1,\n",
    "                             ksize=[1, 2, 2, 1],\n",
    "                             strides=[1, 2, 2, 1],\n",
    "                             padding='SAME')\n",
    "\n",
    "    # 第3層:畳み込み層2\n",
    "    print('\\nBuilding 2nd layer: ')\n",
    "    h2 = conv_layer(h1_pool, name='conv_2',\n",
    "                    kernel_size=(5, 5),\n",
    "                    padding_mode='VALID',\n",
    "                    n_output_channels=64)\n",
    "\n",
    "    # 最大値プーリング\n",
    "    h2_pool = tf.nn.max_pool(h2,\n",
    "                             ksize=[1, 2, 2, 1],\n",
    "                             strides=[1, 2, 2, 1],\n",
    "                             padding='SAME')\n",
    "\n",
    "    # 第3層:全結合層1\n",
    "    print('\\nBuilding 3rd layer: ')\n",
    "    h3 = fc_layer(h2_pool,\n",
    "                  name='fc_3',\n",
    "                  n_output_units=1024,\n",
    "                  activation_fn=tf.nn.relu)\n",
    "\n",
    "    # ドロップアウト\n",
    "    drop_rate = tf.compat.v1.placeholder(tf.float32, name='fc_drop_rate')\n",
    "    h3_drop = tf.nn.dropout(h3, rate=drop_rate, name='dropout_layer')\n",
    "\n",
    "    # 第3層:全結合層2(線形活性化)\n",
    "    print('\\nBuilding 4th layer')\n",
    "    h4 = fc_layer(h3_drop,\n",
    "                  name='fc_4',\n",
    "                  n_output_units=10,\n",
    "                  activation_fn=None)\n",
    "\n",
    "    # 予測\n",
    "    predictions = {\n",
    "        'probabilities': tf.nn.softmax(h4, name='probabilities'),\n",
    "        'labels': tf.cast(tf.argmax(h4, axis=1), tf.int32, name='labels')\n",
    "    }\n",
    "\n",
    "    # TensorBoardで計算グラフを可視化\n",
    "\n",
    "    # 損失関数と最適化\n",
    "    cross_entropy_loss = tf.reduce_mean(\n",
    "        tf.nn.softmax_cross_entropy_with_logits(logits=h4, labels=tf_y_onehot),\n",
    "        name='cross_entropy_loss')\n",
    "\n",
    "    # オプティマイザ\n",
    "    optimizer = tf.compat.v1.train.AdamOptimizer()\n",
    "    optimizer = optimizer.minimize(cross_entropy_loss, name='train_op')\n",
    "\n",
    "    # 予測正解率を特定\n",
    "    correct_predictions = tf.equal(predictions['labels'], tf_y,\n",
    "                                   name='correct_preds')\n",
    "    accuracy = tf.reduce_mean(tf.cast(correct_predictions, tf.float32),\n",
    "                              name='accuracy')"
   ],
   "metadata": {
    "collapsed": false,
    "pycharm": {
     "name": "#%%\n"
    }
   }
  },
  {
   "cell_type": "code",
   "execution_count": 47,
   "outputs": [],
   "source": [
    "def save(saver, sess, epoch, path='./model/'):\n",
    "    if not os.path.isdir(path):\n",
    "        os.makedirs(path)\n",
    "\n",
    "    print('Saving model in %s' % path)\n",
    "    saver.save(sess, os.path.join(path, 'cnn-model.ckpt'), global_step=epoch)\n",
    "\n",
    "\n",
    "def load(saver, sess, path, epoch):\n",
    "    print('Loading model from %s' % path)\n",
    "    saver.restore(sess, os.path.join(path, 'cnn-model.ckpt-%d' % epoch))\n",
    "\n",
    "\n",
    "def train(sess, training_set, validation_set=None, initialize=True,\n",
    "          epochs=20, shuffle=True, dropout=0.5, random_seed=None):\n",
    "    X_data = np.array(training_set[0])\n",
    "    y_data = np.array(training_set[1])\n",
    "    training_loss = []\n",
    "\n",
    "    if initialize:\n",
    "        sess.run(tf.compat.v1.global_variables_initializer())\n",
    "\n",
    "    np.random.seed(random_seed)\n",
    "\n",
    "    for epoch in range(1, epochs + 1):\n",
    "        batch_gen = batch_generator(X_data, y_data, shuffle=shuffle)\n",
    "        avg_loss = 0.0\n",
    "        for i, (batch_x, batch_y) in enumerate(batch_gen):\n",
    "            feed = {'tf_x:0': batch_x,\n",
    "                    'tf_y:0': batch_y,\n",
    "                    'fc_drop_rate:0': dropout}\n",
    "            loss, _ = sess.run(['cross_entropy_loss:0', 'train_op'],\n",
    "                               feed_dict=feed)\n",
    "            avg_loss += loss\n",
    "\n",
    "        training_loss.append(avg_loss / i + 1)\n",
    "        print('Epoch %02d Training Avg. Loss: %7.3f' %\n",
    "              (epoch, avg_loss), end=' ')\n",
    "        if validation_set is not None:\n",
    "            feed = {'tf_x:0': validation_set[0],\n",
    "                    'tf_y:0': validation_set[1],\n",
    "                    'fc_drop_rate:0': 0.0}\n",
    "            valid_acc = sess.run('accuracy:0', feed_dict=feed)\n",
    "            print(' Validation Acc: %7.3f' % valid_acc)\n",
    "        else:\n",
    "            print()\n",
    "\n",
    "\n",
    "def predict(sess, X_test, return_proba=False):\n",
    "    feed = {'tf_x:0': X_test, 'fc_drop_rate:0': 0.0}\n",
    "    if return_proba:\n",
    "        return sess.run('probabilities:0', feed_dict=feed)\n",
    "    else:\n",
    "        return sess.run('labels:0', feed_dict=feed)"
   ],
   "metadata": {
    "collapsed": false,
    "pycharm": {
     "name": "#%%\n"
    }
   }
  },
  {
   "cell_type": "code",
   "execution_count": 48,
   "outputs": [
    {
     "name": "stdout",
     "output_type": "stream",
     "text": [
      "\n",
      "Building 1st layer: \n",
      "<tf.Variable 'conv_1/_weights:0' shape=(5, 5, 1, 32) dtype=float32>\n",
      "<tf.Variable 'conv_1/_biases:0' shape=(32,) dtype=float32>\n",
      "Tensor(\"conv_1/Conv2D:0\", shape=(None, 24, 24, 32), dtype=float32)\n",
      "Tensor(\"conv_1/net_pre-activation:0\", shape=(None, 24, 24, 32), dtype=float32)\n",
      "Tensor(\"conv_1/activation:0\", shape=(None, 24, 24, 32), dtype=float32)\n",
      "\n",
      "Building 2nd layer: \n",
      "<tf.Variable 'conv_2/_weights:0' shape=(5, 5, 32, 64) dtype=float32>\n",
      "<tf.Variable 'conv_2/_biases:0' shape=(64,) dtype=float32>\n",
      "Tensor(\"conv_2/Conv2D:0\", shape=(None, 8, 8, 64), dtype=float32)\n",
      "Tensor(\"conv_2/net_pre-activation:0\", shape=(None, 8, 8, 64), dtype=float32)\n",
      "Tensor(\"conv_2/activation:0\", shape=(None, 8, 8, 64), dtype=float32)\n",
      "\n",
      "Building 3rd layer: \n",
      "<tf.Variable 'fc_3/_weights:0' shape=(1024, 1024) dtype=float32>\n",
      "<tf.Variable 'fc_3/_biases:0' shape=(1024,) dtype=float32>\n",
      "Tensor(\"fc_3/MatMul:0\", shape=(None, 1024), dtype=float32)\n",
      "Tensor(\"fc_3/net_pre-activation:0\", shape=(None, 1024), dtype=float32)\n",
      "Tensor(\"fc_3/activation:0\", shape=(None, 1024), dtype=float32)\n",
      "\n",
      "Building 4th layer\n",
      "<tf.Variable 'fc_4/_weights:0' shape=(1024, 10) dtype=float32>\n",
      "<tf.Variable 'fc_4/_biases:0' shape=(10,) dtype=float32>\n",
      "Tensor(\"fc_4/MatMul:0\", shape=(None, 10), dtype=float32)\n",
      "Tensor(\"fc_4/net_pre-activation:0\", shape=(None, 10), dtype=float32)\n"
     ]
    }
   ],
   "source": [
    "# ハイパーパラメータを定義\n",
    "learning_rate = 1e-4\n",
    "random_seed = 123\n",
    "\n",
    "g = tf.Graph()\n",
    "with g.as_default():\n",
    "    tf.compat.v1.set_random_seed(random_seed)\n",
    "\n",
    "    build_cnn()\n",
    "\n",
    "    saver = tf.compat.v1.train.Saver()\n"
   ],
   "metadata": {
    "collapsed": false,
    "pycharm": {
     "name": "#%%\n"
    }
   }
  },
  {
   "cell_type": "code",
   "execution_count": 49,
   "outputs": [
    {
     "name": "stdout",
     "output_type": "stream",
     "text": [
      "Epoch 01 Training Avg. Loss: 107.033  Validation Acc:   0.981\n",
      "Epoch 02 Training Avg. Loss:  38.873  Validation Acc:   0.987\n",
      "Epoch 03 Training Avg. Loss:  27.486  Validation Acc:   0.989\n",
      "Epoch 04 Training Avg. Loss:  22.057  Validation Acc:   0.989\n",
      "Epoch 05 Training Avg. Loss:  17.765  Validation Acc:   0.989\n",
      "Epoch 06 Training Avg. Loss:  16.988  Validation Acc:   0.991\n",
      "Epoch 07 Training Avg. Loss:  14.811  Validation Acc:   0.990\n",
      "Epoch 08 Training Avg. Loss:  12.591  Validation Acc:   0.992\n",
      "Epoch 09 Training Avg. Loss:  10.917  Validation Acc:   0.991\n",
      "Epoch 10 Training Avg. Loss:  12.226  Validation Acc:   0.991\n",
      "Epoch 11 Training Avg. Loss:   9.214  Validation Acc:   0.991\n",
      "Epoch 12 Training Avg. Loss:   8.496  Validation Acc:   0.990\n",
      "Epoch 13 Training Avg. Loss:   7.534  Validation Acc:   0.991\n",
      "Epoch 14 Training Avg. Loss:  10.446  Validation Acc:   0.991\n",
      "Epoch 15 Training Avg. Loss:   8.867  Validation Acc:   0.992\n",
      "Epoch 16 Training Avg. Loss:   8.566  Validation Acc:   0.992\n",
      "Epoch 17 Training Avg. Loss:   8.086  Validation Acc:   0.991\n",
      "Epoch 18 Training Avg. Loss:   6.501  Validation Acc:   0.993\n",
      "Epoch 19 Training Avg. Loss:   6.966  Validation Acc:   0.992\n",
      "Epoch 20 Training Avg. Loss:   9.092  Validation Acc:   0.990\n",
      "Saving model in ./model/\n"
     ]
    }
   ],
   "source": [
    "with tf.compat.v1.Session(graph=g) as sess:\n",
    "    train(sess,\n",
    "          training_set=(X_train_centered, y_train),\n",
    "          validation_set=(X_valid_centered, y_valid),\n",
    "          initialize=True,\n",
    "          random_seed=123)\n",
    "    save(saver, sess, epoch=20)"
   ],
   "metadata": {
    "collapsed": false,
    "pycharm": {
     "name": "#%%\n"
    }
   }
  },
  {
   "cell_type": "code",
   "execution_count": 50,
   "outputs": [
    {
     "name": "stdout",
     "output_type": "stream",
     "text": [
      "\n",
      "Building 1st layer: \n",
      "<tf.Variable 'conv_1/_weights:0' shape=(5, 5, 1, 32) dtype=float32>\n",
      "<tf.Variable 'conv_1/_biases:0' shape=(32,) dtype=float32>\n",
      "Tensor(\"conv_1/Conv2D:0\", shape=(None, 24, 24, 32), dtype=float32)\n",
      "Tensor(\"conv_1/net_pre-activation:0\", shape=(None, 24, 24, 32), dtype=float32)\n",
      "Tensor(\"conv_1/activation:0\", shape=(None, 24, 24, 32), dtype=float32)\n",
      "\n",
      "Building 2nd layer: \n",
      "<tf.Variable 'conv_2/_weights:0' shape=(5, 5, 32, 64) dtype=float32>\n",
      "<tf.Variable 'conv_2/_biases:0' shape=(64,) dtype=float32>\n",
      "Tensor(\"conv_2/Conv2D:0\", shape=(None, 8, 8, 64), dtype=float32)\n",
      "Tensor(\"conv_2/net_pre-activation:0\", shape=(None, 8, 8, 64), dtype=float32)\n",
      "Tensor(\"conv_2/activation:0\", shape=(None, 8, 8, 64), dtype=float32)\n",
      "\n",
      "Building 3rd layer: \n",
      "<tf.Variable 'fc_3/_weights:0' shape=(1024, 1024) dtype=float32>\n",
      "<tf.Variable 'fc_3/_biases:0' shape=(1024,) dtype=float32>\n",
      "Tensor(\"fc_3/MatMul:0\", shape=(None, 1024), dtype=float32)\n",
      "Tensor(\"fc_3/net_pre-activation:0\", shape=(None, 1024), dtype=float32)\n",
      "Tensor(\"fc_3/activation:0\", shape=(None, 1024), dtype=float32)\n",
      "\n",
      "Building 4th layer\n",
      "<tf.Variable 'fc_4/_weights:0' shape=(1024, 10) dtype=float32>\n",
      "<tf.Variable 'fc_4/_biases:0' shape=(10,) dtype=float32>\n",
      "Tensor(\"fc_4/MatMul:0\", shape=(None, 10), dtype=float32)\n",
      "Tensor(\"fc_4/net_pre-activation:0\", shape=(None, 10), dtype=float32)\n",
      "Loading model from ./model/\n",
      "INFO:tensorflow:Restoring parameters from ./model/cnn-model.ckpt-20\n",
      "Test Accuracy: 99.100%\n"
     ]
    }
   ],
   "source": [
    "del g\n",
    "\n",
    "g2 = tf.Graph()\n",
    "with g2.as_default():\n",
    "    tf.compat.v1.set_random_seed(random_seed)\n",
    "    build_cnn()\n",
    "    saver = tf.compat.v1.train.Saver()\n",
    "\n",
    "with tf.compat.v1.Session(graph=g2) as sess:\n",
    "    load(saver, sess, epoch=20, path='./model/')\n",
    "    preds = predict(sess, X_test_centered, return_proba=False)\n",
    "    print('Test Accuracy: %.3f%%' % (100 * np.sum(preds == y_test) / len(y_test)))"
   ],
   "metadata": {
    "collapsed": false,
    "pycharm": {
     "name": "#%%\n"
    }
   }
  },
  {
   "cell_type": "code",
   "execution_count": 51,
   "outputs": [
    {
     "name": "stdout",
     "output_type": "stream",
     "text": [
      "Loading model from ./model/\n",
      "INFO:tensorflow:Restoring parameters from ./model/cnn-model.ckpt-20\n",
      "[7 2 1 0 4 1 4 9 5 9]\n",
      "[[0. 0. 0. 0. 0. 0. 0. 1. 0. 0.]\n",
      " [0. 0. 1. 0. 0. 0. 0. 0. 0. 0.]\n",
      " [0. 1. 0. 0. 0. 0. 0. 0. 0. 0.]\n",
      " [1. 0. 0. 0. 0. 0. 0. 0. 0. 0.]\n",
      " [0. 0. 0. 0. 1. 0. 0. 0. 0. 0.]\n",
      " [0. 1. 0. 0. 0. 0. 0. 0. 0. 0.]\n",
      " [0. 0. 0. 0. 1. 0. 0. 0. 0. 0.]\n",
      " [0. 0. 0. 0. 0. 0. 0. 0. 0. 1.]\n",
      " [0. 0. 0. 0. 0. 1. 0. 0. 0. 0.]\n",
      " [0. 0. 0. 0. 0. 0. 0. 0. 0. 1.]]\n"
     ]
    }
   ],
   "source": [
    "np.set_printoptions(precision=2, suppress=True)\n",
    "\n",
    "with tf.compat.v1.Session(graph=g2) as sess:\n",
    "    load(saver, sess, epoch=20, path='./model/')\n",
    "    print(predict(sess, X_test_centered[:10], return_proba=False))\n",
    "    print(predict(sess, X_test_centered[:10], return_proba=True))"
   ],
   "metadata": {
    "collapsed": false,
    "pycharm": {
     "name": "#%%\n"
    }
   }
  },
  {
   "cell_type": "code",
   "execution_count": 53,
   "outputs": [],
   "source": [
    "class ConvNN:\n",
    "\n",
    "    def __init__(self, batchsize=64, epochs=20, learning_rate=1e-4,\n",
    "                 dropout_rate=0.5, shuffle=True, random_seed=None):\n",
    "        np.random.seed(random_seed)\n",
    "        self.batchsize = batchsize\n",
    "        self.epochs = epochs\n",
    "        self.learning_rate = learning_rate\n",
    "        self.dropout_rate = dropout_rate\n",
    "        self.shuffle = shuffle\n",
    "\n",
    "        g = tf.Graph()\n",
    "        with g.as_default():\n",
    "            tf.compat.v1.set_random_seed(random_seed)\n",
    "            self.build()\n",
    "            self.init_op = tf.compat.v1.global_variables_initializer()\n",
    "            self.saver = tf.compat.v1.train.Saver()\n",
    "\n",
    "        self.sess = tf.compat.v1.Session(graph=g)\n",
    "\n",
    "    def build(self):\n",
    "        tf_x = tf.compat.v1.placeholder(tf.float32, shape=[None, 784], name='tf_x')\n",
    "        tf_y = tf.compat.v1.placeholder(tf.int32, shape=[None], name='tf_y')\n",
    "        is_train = tf.compat.v1.placeholder(tf.bool, shape=(), name='is_train')\n",
    "\n",
    "        tf_x_image = tf.reshape(tf_x, shape=[-1, 28, 28, 1],\n",
    "                                name='input_x_2dimages')\n",
    "\n",
    "        tf_y_onehot = tf.one_hot(indices=tf_y, depth=10, dtype=tf.float32,\n",
    "                                 name='input_y_onehot')\n",
    "\n",
    "        h1 = tf.compat.v1.layers.conv2d(tf_x_image,\n",
    "                                        kernel_size=(5, 5),\n",
    "                                        filters=32,\n",
    "                                        activation=tf.nn.relu)\n",
    "        h1_pool = tf.compat.v1.layers.max_pooling2d(h1,\n",
    "                                                    pool_size=(2, 2),\n",
    "                                                    strides=(2, 2))\n",
    "        h2 = tf.compat.v1.layers.conv2d(h1_pool,\n",
    "                                        kernel_size=(5, 5),\n",
    "                                        filters=64,\n",
    "                                        activation=tf.nn.relu)\n",
    "        h2_pool = tf.compat.v1.layers.max_pooling2d(h2,\n",
    "                                                    pool_size=(2, 2),\n",
    "                                                    strides=(2, 2))\n",
    "\n",
    "        input_shape = h2_pool.get_shape().as_list()\n",
    "        n_input_units = np.prod(input_shape[1:])\n",
    "        h2_pool_flat = tf.reshape(h2_pool, shape=[-1, n_input_units])\n",
    "        h3 = tf.compat.v1.layers.dense(h2_pool_flat, 1024, activation=tf.nn.relu)\n",
    "\n",
    "        h3_drop = tf.compat.v1.layers.dropout(h3,\n",
    "                                              rate=self.dropout_rate,\n",
    "                                              training=is_train)\n",
    "\n",
    "        h4 = tf.compat.v1.layers.dense(h3_drop,\n",
    "                                       10,\n",
    "                                       activation=None)\n",
    "\n",
    "        predictions = {\n",
    "            'probabilities': tf.nn.softmax(h4, name='probabilities'),\n",
    "            'labels': tf.cast(tf.argmax(h4, axis=1), tf.int32, name='labels')\n",
    "        }\n",
    "\n",
    "        cross_entropy_loss = tf.reduce_mean(\n",
    "            tf.nn.softmax_cross_entropy_with_logits(logits=h4, labels=tf_y_onehot),\n",
    "            name='cross_entropy_loss')\n",
    "\n",
    "        optimizer = tf.compat.v1.train.AdamOptimizer(self.learning_rate)\n",
    "        optimizer = optimizer.minimize(cross_entropy_loss, name='train_op')\n",
    "\n",
    "        correct_predictions = tf.equal(predictions['labels'], tf_y,\n",
    "                                       name='correct_preds')\n",
    "\n",
    "        accuracy = tf.reduce_mean(tf.cast(correct_predictions, tf.float32),\n",
    "                                  name='accuracy')\n",
    "\n",
    "    def save(self, epoch, path='./tflayers-model/'):\n",
    "        if not os.path.isdir(path):\n",
    "            os.makedirs(path)\n",
    "\n",
    "        print('Saving model in %s' % path)\n",
    "        self.saver.save(self.sess,\n",
    "                        os.path.join(path, 'model.ckpt'),\n",
    "                        global_step=epoch)\n",
    "\n",
    "    def load(self, epoch, path):\n",
    "        print('Loading model from %s' % path)\n",
    "        self.saver.restore(self.sess,\n",
    "                           os.path.join(path, 'model.ckpt-%d' % epoch))\n",
    "\n",
    "    def train(self, training_set, validation_set=None, initialize=True):\n",
    "        if initialize:\n",
    "            self.sess.run(self.init_op)\n",
    "\n",
    "        self.train_cost_ = []\n",
    "        X_data = np.array(training_set[0])\n",
    "        y_data = np.array(training_set[1])\n",
    "\n",
    "        for epoch in range(1, self.epochs + 1):\n",
    "            batch_gen = batch_generator(X_data, y_data, shuffle=self.shuffle)\n",
    "            avg_loss = 0.0\n",
    "            for i, (batch_x, batch_y) in enumerate(batch_gen):\n",
    "                feed = {'tf_x:0': batch_x,\n",
    "                        'tf_y:0': batch_y,\n",
    "                        'is_train:0': True}\n",
    "                loss, _ = self.sess.run(['cross_entropy_loss:0', 'train_op'],\n",
    "                                        feed_dict=feed)\n",
    "                avg_loss += loss\n",
    "\n",
    "            print('Epoch %02d: Training Avg. Loss: %7.3f' %\n",
    "                  (epoch, avg_loss), end=' ')\n",
    "            if validation_set is not None:\n",
    "                feed = {'tf_x:0': validation_set[0],\n",
    "                        'tf_y:0': validation_set[1],\n",
    "                        'is_train:0': False}\n",
    "                valid_acc = self.sess.run('accuracy:0', feed_dict=feed)\n",
    "                print('Validation Acc: %7.3f' % valid_acc)\n",
    "            else:\n",
    "                print()\n",
    "\n",
    "    def predict(self, X_test, return_proba=False):\n",
    "        feed = {'tf_x:0': X_test,\n",
    "                'is_train:0': False}\n",
    "\n",
    "        if return_proba:\n",
    "            return self.sess.run('probabilities:0', feed_dict=feed)\n",
    "        else:\n",
    "            return self.sess.run('labels:0', feed_dict=feed)"
   ],
   "metadata": {
    "collapsed": false,
    "pycharm": {
     "name": "#%%\n"
    }
   }
  },
  {
   "cell_type": "code",
   "execution_count": 54,
   "outputs": [
    {
     "name": "stderr",
     "output_type": "stream",
     "text": [
      "c:\\users\\1023d\\.virtualenvs\\pythonmachinelearning-qwvwlql2\\lib\\site-packages\\tensorflow\\python\\keras\\legacy_tf_layers\\convolutional.py:414: UserWarning: `tf.layers.conv2d` is deprecated and will be removed in a future version. Please Use `tf.keras.layers.Conv2D` instead.\n",
      "  warnings.warn('`tf.layers.conv2d` is deprecated and '\n",
      "c:\\users\\1023d\\.virtualenvs\\pythonmachinelearning-qwvwlql2\\lib\\site-packages\\tensorflow\\python\\keras\\engine\\base_layer_v1.py:1692: UserWarning: `layer.apply` is deprecated and will be removed in a future version. Please use `layer.__call__` method instead.\n",
      "  warnings.warn('`layer.apply` is deprecated and '\n",
      "c:\\users\\1023d\\.virtualenvs\\pythonmachinelearning-qwvwlql2\\lib\\site-packages\\tensorflow\\python\\keras\\legacy_tf_layers\\pooling.py:310: UserWarning: `tf.layers.max_pooling2d` is deprecated and will be removed in a future version. Please use `tf.keras.layers.MaxPooling2D` instead.\n",
      "  warnings.warn('`tf.layers.max_pooling2d` is deprecated and '\n",
      "c:\\users\\1023d\\.virtualenvs\\pythonmachinelearning-qwvwlql2\\lib\\site-packages\\tensorflow\\python\\keras\\legacy_tf_layers\\core.py:171: UserWarning: `tf.layers.dense` is deprecated and will be removed in a future version. Please use `tf.keras.layers.Dense` instead.\n",
      "  warnings.warn('`tf.layers.dense` is deprecated and '\n",
      "c:\\users\\1023d\\.virtualenvs\\pythonmachinelearning-qwvwlql2\\lib\\site-packages\\tensorflow\\python\\keras\\legacy_tf_layers\\core.py:268: UserWarning: `tf.layers.dropout` is deprecated and will be removed in a future version. Please use `tf.keras.layers.Dropout` instead.\n",
      "  warnings.warn('`tf.layers.dropout` is deprecated and '\n"
     ]
    },
    {
     "name": "stdout",
     "output_type": "stream",
     "text": [
      "Epoch 01: Training Avg. Loss: 265.661 Validation Acc:   0.975\n",
      "Epoch 02: Training Avg. Loss:  74.708 Validation Acc:   0.984\n",
      "Epoch 03: Training Avg. Loss:  47.725 Validation Acc:   0.986\n",
      "Epoch 04: Training Avg. Loss:  38.152 Validation Acc:   0.986\n",
      "Epoch 05: Training Avg. Loss:  31.412 Validation Acc:   0.990\n",
      "Epoch 06: Training Avg. Loss:  27.043 Validation Acc:   0.989\n",
      "Epoch 07: Training Avg. Loss:  21.835 Validation Acc:   0.990\n",
      "Epoch 08: Training Avg. Loss:  19.360 Validation Acc:   0.990\n",
      "Epoch 09: Training Avg. Loss:  17.403 Validation Acc:   0.991\n",
      "Epoch 10: Training Avg. Loss:  13.504 Validation Acc:   0.990\n",
      "Epoch 11: Training Avg. Loss:  12.856 Validation Acc:   0.990\n",
      "Epoch 12: Training Avg. Loss:  11.145 Validation Acc:   0.991\n",
      "Epoch 13: Training Avg. Loss:   9.764 Validation Acc:   0.991\n",
      "Epoch 14: Training Avg. Loss:   8.506 Validation Acc:   0.992\n",
      "Epoch 15: Training Avg. Loss:   7.693 Validation Acc:   0.992\n",
      "Epoch 16: Training Avg. Loss:   6.942 Validation Acc:   0.992\n",
      "Epoch 17: Training Avg. Loss:   6.471 Validation Acc:   0.993\n",
      "Epoch 18: Training Avg. Loss:   6.288 Validation Acc:   0.992\n",
      "Epoch 19: Training Avg. Loss:   5.039 Validation Acc:   0.992\n",
      "Epoch 20: Training Avg. Loss:   5.098 Validation Acc:   0.992\n",
      "Saving model in ./tflayers-model/\n"
     ]
    },
    {
     "ename": "ValueError",
     "evalue": "Can only save/restore ResourceVariables when executing eagerly, got type: <class 'tensorflow.python.framework.ops.Tensor'>.",
     "output_type": "error",
     "traceback": [
      "\u001B[1;31m---------------------------------------------------------------------------\u001B[0m",
      "\u001B[1;31mValueError\u001B[0m                                Traceback (most recent call last)",
      "\u001B[1;32m<ipython-input-54-bbf70ae4eeac>\u001B[0m in \u001B[0;36m<module>\u001B[1;34m\u001B[0m\n\u001B[0;32m      4\u001B[0m           validation_set=(X_valid_centered, y_valid))\n\u001B[0;32m      5\u001B[0m \u001B[1;33m\u001B[0m\u001B[0m\n\u001B[1;32m----> 6\u001B[1;33m \u001B[0mcnn\u001B[0m\u001B[1;33m.\u001B[0m\u001B[0msave\u001B[0m\u001B[1;33m(\u001B[0m\u001B[0mepoch\u001B[0m\u001B[1;33m=\u001B[0m\u001B[1;36m20\u001B[0m\u001B[1;33m)\u001B[0m\u001B[1;33m\u001B[0m\u001B[1;33m\u001B[0m\u001B[0m\n\u001B[0m\u001B[0;32m      7\u001B[0m \u001B[1;33m\u001B[0m\u001B[0m\n",
      "\u001B[1;32m<ipython-input-53-fefd9daacd30>\u001B[0m in \u001B[0;36msave\u001B[1;34m(self, epoch, path)\u001B[0m\n\u001B[0;32m     81\u001B[0m \u001B[1;33m\u001B[0m\u001B[0m\n\u001B[0;32m     82\u001B[0m         \u001B[0mprint\u001B[0m\u001B[1;33m(\u001B[0m\u001B[1;34m'Saving model in %s'\u001B[0m \u001B[1;33m%\u001B[0m \u001B[0mpath\u001B[0m\u001B[1;33m)\u001B[0m\u001B[1;33m\u001B[0m\u001B[1;33m\u001B[0m\u001B[0m\n\u001B[1;32m---> 83\u001B[1;33m         self.saver.save(self.sess,\n\u001B[0m\u001B[0;32m     84\u001B[0m                         \u001B[0mos\u001B[0m\u001B[1;33m.\u001B[0m\u001B[0mpath\u001B[0m\u001B[1;33m.\u001B[0m\u001B[0mjoin\u001B[0m\u001B[1;33m(\u001B[0m\u001B[0mpath\u001B[0m\u001B[1;33m,\u001B[0m \u001B[1;34m'model.ckpt'\u001B[0m\u001B[1;33m)\u001B[0m\u001B[1;33m,\u001B[0m\u001B[1;33m\u001B[0m\u001B[1;33m\u001B[0m\u001B[0m\n\u001B[0;32m     85\u001B[0m                         global_step=epoch)\n",
      "\u001B[1;32mc:\\users\\1023d\\.virtualenvs\\pythonmachinelearning-qwvwlql2\\lib\\site-packages\\tensorflow\\python\\training\\saver.py\u001B[0m in \u001B[0;36msave\u001B[1;34m(self, sess, save_path, global_step, latest_filename, meta_graph_suffix, write_meta_graph, write_state, strip_default_attrs, save_debug_info)\u001B[0m\n\u001B[0;32m   1182\u001B[0m       \u001B[1;32mtry\u001B[0m\u001B[1;33m:\u001B[0m\u001B[1;33m\u001B[0m\u001B[1;33m\u001B[0m\u001B[0m\n\u001B[0;32m   1183\u001B[0m         \u001B[1;32mif\u001B[0m \u001B[0mcontext\u001B[0m\u001B[1;33m.\u001B[0m\u001B[0mexecuting_eagerly\u001B[0m\u001B[1;33m(\u001B[0m\u001B[1;33m)\u001B[0m\u001B[1;33m:\u001B[0m\u001B[1;33m\u001B[0m\u001B[1;33m\u001B[0m\u001B[0m\n\u001B[1;32m-> 1184\u001B[1;33m           self._build_eager(\n\u001B[0m\u001B[0;32m   1185\u001B[0m               checkpoint_file, build_save=True, build_restore=False)\n\u001B[0;32m   1186\u001B[0m           \u001B[0mmodel_checkpoint_path\u001B[0m \u001B[1;33m=\u001B[0m \u001B[0mself\u001B[0m\u001B[1;33m.\u001B[0m\u001B[0msaver_def\u001B[0m\u001B[1;33m.\u001B[0m\u001B[0msave_tensor_name\u001B[0m\u001B[1;33m\u001B[0m\u001B[1;33m\u001B[0m\u001B[0m\n",
      "\u001B[1;32mc:\\users\\1023d\\.virtualenvs\\pythonmachinelearning-qwvwlql2\\lib\\site-packages\\tensorflow\\python\\training\\saver.py\u001B[0m in \u001B[0;36m_build_eager\u001B[1;34m(self, checkpoint_path, build_save, build_restore)\u001B[0m\n\u001B[0;32m    849\u001B[0m \u001B[1;33m\u001B[0m\u001B[0m\n\u001B[0;32m    850\u001B[0m   \u001B[1;32mdef\u001B[0m \u001B[0m_build_eager\u001B[0m\u001B[1;33m(\u001B[0m\u001B[0mself\u001B[0m\u001B[1;33m,\u001B[0m \u001B[0mcheckpoint_path\u001B[0m\u001B[1;33m,\u001B[0m \u001B[0mbuild_save\u001B[0m\u001B[1;33m,\u001B[0m \u001B[0mbuild_restore\u001B[0m\u001B[1;33m)\u001B[0m\u001B[1;33m:\u001B[0m\u001B[1;33m\u001B[0m\u001B[1;33m\u001B[0m\u001B[0m\n\u001B[1;32m--> 851\u001B[1;33m     self._build(\n\u001B[0m\u001B[0;32m    852\u001B[0m         checkpoint_path, build_save=build_save, build_restore=build_restore)\n\u001B[0;32m    853\u001B[0m \u001B[1;33m\u001B[0m\u001B[0m\n",
      "\u001B[1;32mc:\\users\\1023d\\.virtualenvs\\pythonmachinelearning-qwvwlql2\\lib\\site-packages\\tensorflow\\python\\training\\saver.py\u001B[0m in \u001B[0;36m_build\u001B[1;34m(self, checkpoint_path, build_save, build_restore)\u001B[0m\n\u001B[0;32m    874\u001B[0m       \u001B[0mself\u001B[0m\u001B[1;33m.\u001B[0m\u001B[0m_is_empty\u001B[0m \u001B[1;33m=\u001B[0m \u001B[1;32mFalse\u001B[0m\u001B[1;33m\u001B[0m\u001B[1;33m\u001B[0m\u001B[0m\n\u001B[0;32m    875\u001B[0m \u001B[1;33m\u001B[0m\u001B[0m\n\u001B[1;32m--> 876\u001B[1;33m       self.saver_def = self._builder._build_internal(  # pylint: disable=protected-access\n\u001B[0m\u001B[0;32m    877\u001B[0m           \u001B[0mself\u001B[0m\u001B[1;33m.\u001B[0m\u001B[0m_var_list\u001B[0m\u001B[1;33m,\u001B[0m\u001B[1;33m\u001B[0m\u001B[1;33m\u001B[0m\u001B[0m\n\u001B[0;32m    878\u001B[0m           \u001B[0mreshape\u001B[0m\u001B[1;33m=\u001B[0m\u001B[0mself\u001B[0m\u001B[1;33m.\u001B[0m\u001B[0m_reshape\u001B[0m\u001B[1;33m,\u001B[0m\u001B[1;33m\u001B[0m\u001B[1;33m\u001B[0m\u001B[0m\n",
      "\u001B[1;32mc:\\users\\1023d\\.virtualenvs\\pythonmachinelearning-qwvwlql2\\lib\\site-packages\\tensorflow\\python\\training\\saver.py\u001B[0m in \u001B[0;36m_build_internal\u001B[1;34m(self, names_to_saveables, reshape, sharded, max_to_keep, keep_checkpoint_every_n_hours, name, restore_sequentially, filename, build_save, build_restore)\u001B[0m\n\u001B[0;32m    487\u001B[0m                        \" when eager execution is not enabled.\")\n\u001B[0;32m    488\u001B[0m \u001B[1;33m\u001B[0m\u001B[0m\n\u001B[1;32m--> 489\u001B[1;33m     saveables = saveable_object_util.validate_and_slice_inputs(\n\u001B[0m\u001B[0;32m    490\u001B[0m         names_to_saveables)\n\u001B[0;32m    491\u001B[0m     \u001B[1;32mif\u001B[0m \u001B[0mmax_to_keep\u001B[0m \u001B[1;32mis\u001B[0m \u001B[1;32mNone\u001B[0m\u001B[1;33m:\u001B[0m\u001B[1;33m\u001B[0m\u001B[1;33m\u001B[0m\u001B[0m\n",
      "\u001B[1;32mc:\\users\\1023d\\.virtualenvs\\pythonmachinelearning-qwvwlql2\\lib\\site-packages\\tensorflow\\python\\training\\saving\\saveable_object_util.py\u001B[0m in \u001B[0;36mvalidate_and_slice_inputs\u001B[1;34m(names_to_saveables)\u001B[0m\n\u001B[0;32m    360\u001B[0m                          \u001B[1;31m# Avoid comparing ops, sort only by name.\u001B[0m\u001B[1;33m\u001B[0m\u001B[1;33m\u001B[0m\u001B[1;33m\u001B[0m\u001B[0m\n\u001B[0;32m    361\u001B[0m                          key=lambda x: x[0]):\n\u001B[1;32m--> 362\u001B[1;33m     \u001B[1;32mfor\u001B[0m \u001B[0mconverted_saveable_object\u001B[0m \u001B[1;32min\u001B[0m \u001B[0msaveable_objects_for_op\u001B[0m\u001B[1;33m(\u001B[0m\u001B[0mop\u001B[0m\u001B[1;33m,\u001B[0m \u001B[0mname\u001B[0m\u001B[1;33m)\u001B[0m\u001B[1;33m:\u001B[0m\u001B[1;33m\u001B[0m\u001B[1;33m\u001B[0m\u001B[0m\n\u001B[0m\u001B[0;32m    363\u001B[0m       \u001B[0m_add_saveable\u001B[0m\u001B[1;33m(\u001B[0m\u001B[0msaveables\u001B[0m\u001B[1;33m,\u001B[0m \u001B[0mseen_ops\u001B[0m\u001B[1;33m,\u001B[0m \u001B[0mconverted_saveable_object\u001B[0m\u001B[1;33m)\u001B[0m\u001B[1;33m\u001B[0m\u001B[1;33m\u001B[0m\u001B[0m\n\u001B[0;32m    364\u001B[0m   \u001B[1;32mreturn\u001B[0m \u001B[0msaveables\u001B[0m\u001B[1;33m\u001B[0m\u001B[1;33m\u001B[0m\u001B[0m\n",
      "\u001B[1;32mc:\\users\\1023d\\.virtualenvs\\pythonmachinelearning-qwvwlql2\\lib\\site-packages\\tensorflow\\python\\training\\saving\\saveable_object_util.py\u001B[0m in \u001B[0;36msaveable_objects_for_op\u001B[1;34m(op, name)\u001B[0m\n\u001B[0;32m    209\u001B[0m     \u001B[1;32melse\u001B[0m\u001B[1;33m:\u001B[0m\u001B[1;33m\u001B[0m\u001B[1;33m\u001B[0m\u001B[0m\n\u001B[0;32m    210\u001B[0m       \u001B[1;32mif\u001B[0m \u001B[0mcontext\u001B[0m\u001B[1;33m.\u001B[0m\u001B[0mexecuting_eagerly\u001B[0m\u001B[1;33m(\u001B[0m\u001B[1;33m)\u001B[0m\u001B[1;33m:\u001B[0m\u001B[1;33m\u001B[0m\u001B[1;33m\u001B[0m\u001B[0m\n\u001B[1;32m--> 211\u001B[1;33m         raise ValueError(\"Can only save/restore ResourceVariables when \"\n\u001B[0m\u001B[0;32m    212\u001B[0m                          \"executing eagerly, got type: %s.\" % type(op))\n\u001B[0;32m    213\u001B[0m \u001B[1;33m\u001B[0m\u001B[0m\n",
      "\u001B[1;31mValueError\u001B[0m: Can only save/restore ResourceVariables when executing eagerly, got type: <class 'tensorflow.python.framework.ops.Tensor'>."
     ]
    }
   ],
   "source": [
    "cnn = ConvNN(random_seed=123)\n",
    "\n",
    "cnn.train(training_set=(X_train_centered, y_train),\n",
    "          validation_set=(X_valid_centered, y_valid))"
   ],
   "metadata": {
    "collapsed": false,
    "pycharm": {
     "name": "#%%\n"
    }
   }
  },
  {
   "cell_type": "code",
   "execution_count": 55,
   "outputs": [
    {
     "name": "stdout",
     "output_type": "stream",
     "text": [
      "Saving model in ./tflayers-model/\n"
     ]
    },
    {
     "ename": "ValueError",
     "evalue": "Can only save/restore ResourceVariables when executing eagerly, got type: <class 'tensorflow.python.framework.ops.Tensor'>.",
     "output_type": "error",
     "traceback": [
      "\u001B[1;31m---------------------------------------------------------------------------\u001B[0m",
      "\u001B[1;31mValueError\u001B[0m                                Traceback (most recent call last)",
      "\u001B[1;32m<ipython-input-55-293c761bff96>\u001B[0m in \u001B[0;36m<module>\u001B[1;34m\u001B[0m\n\u001B[1;32m----> 1\u001B[1;33m \u001B[0mcnn\u001B[0m\u001B[1;33m.\u001B[0m\u001B[0msave\u001B[0m\u001B[1;33m(\u001B[0m\u001B[0mepoch\u001B[0m\u001B[1;33m=\u001B[0m\u001B[1;36m20\u001B[0m\u001B[1;33m)\u001B[0m\u001B[1;33m\u001B[0m\u001B[1;33m\u001B[0m\u001B[0m\n\u001B[0m\u001B[0;32m      2\u001B[0m \u001B[1;33m\u001B[0m\u001B[0m\n",
      "\u001B[1;32m<ipython-input-53-fefd9daacd30>\u001B[0m in \u001B[0;36msave\u001B[1;34m(self, epoch, path)\u001B[0m\n\u001B[0;32m     81\u001B[0m \u001B[1;33m\u001B[0m\u001B[0m\n\u001B[0;32m     82\u001B[0m         \u001B[0mprint\u001B[0m\u001B[1;33m(\u001B[0m\u001B[1;34m'Saving model in %s'\u001B[0m \u001B[1;33m%\u001B[0m \u001B[0mpath\u001B[0m\u001B[1;33m)\u001B[0m\u001B[1;33m\u001B[0m\u001B[1;33m\u001B[0m\u001B[0m\n\u001B[1;32m---> 83\u001B[1;33m         self.saver.save(self.sess,\n\u001B[0m\u001B[0;32m     84\u001B[0m                         \u001B[0mos\u001B[0m\u001B[1;33m.\u001B[0m\u001B[0mpath\u001B[0m\u001B[1;33m.\u001B[0m\u001B[0mjoin\u001B[0m\u001B[1;33m(\u001B[0m\u001B[0mpath\u001B[0m\u001B[1;33m,\u001B[0m \u001B[1;34m'model.ckpt'\u001B[0m\u001B[1;33m)\u001B[0m\u001B[1;33m,\u001B[0m\u001B[1;33m\u001B[0m\u001B[1;33m\u001B[0m\u001B[0m\n\u001B[0;32m     85\u001B[0m                         global_step=epoch)\n",
      "\u001B[1;32mc:\\users\\1023d\\.virtualenvs\\pythonmachinelearning-qwvwlql2\\lib\\site-packages\\tensorflow\\python\\training\\saver.py\u001B[0m in \u001B[0;36msave\u001B[1;34m(self, sess, save_path, global_step, latest_filename, meta_graph_suffix, write_meta_graph, write_state, strip_default_attrs, save_debug_info)\u001B[0m\n\u001B[0;32m   1182\u001B[0m       \u001B[1;32mtry\u001B[0m\u001B[1;33m:\u001B[0m\u001B[1;33m\u001B[0m\u001B[1;33m\u001B[0m\u001B[0m\n\u001B[0;32m   1183\u001B[0m         \u001B[1;32mif\u001B[0m \u001B[0mcontext\u001B[0m\u001B[1;33m.\u001B[0m\u001B[0mexecuting_eagerly\u001B[0m\u001B[1;33m(\u001B[0m\u001B[1;33m)\u001B[0m\u001B[1;33m:\u001B[0m\u001B[1;33m\u001B[0m\u001B[1;33m\u001B[0m\u001B[0m\n\u001B[1;32m-> 1184\u001B[1;33m           self._build_eager(\n\u001B[0m\u001B[0;32m   1185\u001B[0m               checkpoint_file, build_save=True, build_restore=False)\n\u001B[0;32m   1186\u001B[0m           \u001B[0mmodel_checkpoint_path\u001B[0m \u001B[1;33m=\u001B[0m \u001B[0mself\u001B[0m\u001B[1;33m.\u001B[0m\u001B[0msaver_def\u001B[0m\u001B[1;33m.\u001B[0m\u001B[0msave_tensor_name\u001B[0m\u001B[1;33m\u001B[0m\u001B[1;33m\u001B[0m\u001B[0m\n",
      "\u001B[1;32mc:\\users\\1023d\\.virtualenvs\\pythonmachinelearning-qwvwlql2\\lib\\site-packages\\tensorflow\\python\\training\\saver.py\u001B[0m in \u001B[0;36m_build_eager\u001B[1;34m(self, checkpoint_path, build_save, build_restore)\u001B[0m\n\u001B[0;32m    849\u001B[0m \u001B[1;33m\u001B[0m\u001B[0m\n\u001B[0;32m    850\u001B[0m   \u001B[1;32mdef\u001B[0m \u001B[0m_build_eager\u001B[0m\u001B[1;33m(\u001B[0m\u001B[0mself\u001B[0m\u001B[1;33m,\u001B[0m \u001B[0mcheckpoint_path\u001B[0m\u001B[1;33m,\u001B[0m \u001B[0mbuild_save\u001B[0m\u001B[1;33m,\u001B[0m \u001B[0mbuild_restore\u001B[0m\u001B[1;33m)\u001B[0m\u001B[1;33m:\u001B[0m\u001B[1;33m\u001B[0m\u001B[1;33m\u001B[0m\u001B[0m\n\u001B[1;32m--> 851\u001B[1;33m     self._build(\n\u001B[0m\u001B[0;32m    852\u001B[0m         checkpoint_path, build_save=build_save, build_restore=build_restore)\n\u001B[0;32m    853\u001B[0m \u001B[1;33m\u001B[0m\u001B[0m\n",
      "\u001B[1;32mc:\\users\\1023d\\.virtualenvs\\pythonmachinelearning-qwvwlql2\\lib\\site-packages\\tensorflow\\python\\training\\saver.py\u001B[0m in \u001B[0;36m_build\u001B[1;34m(self, checkpoint_path, build_save, build_restore)\u001B[0m\n\u001B[0;32m    874\u001B[0m       \u001B[0mself\u001B[0m\u001B[1;33m.\u001B[0m\u001B[0m_is_empty\u001B[0m \u001B[1;33m=\u001B[0m \u001B[1;32mFalse\u001B[0m\u001B[1;33m\u001B[0m\u001B[1;33m\u001B[0m\u001B[0m\n\u001B[0;32m    875\u001B[0m \u001B[1;33m\u001B[0m\u001B[0m\n\u001B[1;32m--> 876\u001B[1;33m       self.saver_def = self._builder._build_internal(  # pylint: disable=protected-access\n\u001B[0m\u001B[0;32m    877\u001B[0m           \u001B[0mself\u001B[0m\u001B[1;33m.\u001B[0m\u001B[0m_var_list\u001B[0m\u001B[1;33m,\u001B[0m\u001B[1;33m\u001B[0m\u001B[1;33m\u001B[0m\u001B[0m\n\u001B[0;32m    878\u001B[0m           \u001B[0mreshape\u001B[0m\u001B[1;33m=\u001B[0m\u001B[0mself\u001B[0m\u001B[1;33m.\u001B[0m\u001B[0m_reshape\u001B[0m\u001B[1;33m,\u001B[0m\u001B[1;33m\u001B[0m\u001B[1;33m\u001B[0m\u001B[0m\n",
      "\u001B[1;32mc:\\users\\1023d\\.virtualenvs\\pythonmachinelearning-qwvwlql2\\lib\\site-packages\\tensorflow\\python\\training\\saver.py\u001B[0m in \u001B[0;36m_build_internal\u001B[1;34m(self, names_to_saveables, reshape, sharded, max_to_keep, keep_checkpoint_every_n_hours, name, restore_sequentially, filename, build_save, build_restore)\u001B[0m\n\u001B[0;32m    487\u001B[0m                        \" when eager execution is not enabled.\")\n\u001B[0;32m    488\u001B[0m \u001B[1;33m\u001B[0m\u001B[0m\n\u001B[1;32m--> 489\u001B[1;33m     saveables = saveable_object_util.validate_and_slice_inputs(\n\u001B[0m\u001B[0;32m    490\u001B[0m         names_to_saveables)\n\u001B[0;32m    491\u001B[0m     \u001B[1;32mif\u001B[0m \u001B[0mmax_to_keep\u001B[0m \u001B[1;32mis\u001B[0m \u001B[1;32mNone\u001B[0m\u001B[1;33m:\u001B[0m\u001B[1;33m\u001B[0m\u001B[1;33m\u001B[0m\u001B[0m\n",
      "\u001B[1;32mc:\\users\\1023d\\.virtualenvs\\pythonmachinelearning-qwvwlql2\\lib\\site-packages\\tensorflow\\python\\training\\saving\\saveable_object_util.py\u001B[0m in \u001B[0;36mvalidate_and_slice_inputs\u001B[1;34m(names_to_saveables)\u001B[0m\n\u001B[0;32m    360\u001B[0m                          \u001B[1;31m# Avoid comparing ops, sort only by name.\u001B[0m\u001B[1;33m\u001B[0m\u001B[1;33m\u001B[0m\u001B[1;33m\u001B[0m\u001B[0m\n\u001B[0;32m    361\u001B[0m                          key=lambda x: x[0]):\n\u001B[1;32m--> 362\u001B[1;33m     \u001B[1;32mfor\u001B[0m \u001B[0mconverted_saveable_object\u001B[0m \u001B[1;32min\u001B[0m \u001B[0msaveable_objects_for_op\u001B[0m\u001B[1;33m(\u001B[0m\u001B[0mop\u001B[0m\u001B[1;33m,\u001B[0m \u001B[0mname\u001B[0m\u001B[1;33m)\u001B[0m\u001B[1;33m:\u001B[0m\u001B[1;33m\u001B[0m\u001B[1;33m\u001B[0m\u001B[0m\n\u001B[0m\u001B[0;32m    363\u001B[0m       \u001B[0m_add_saveable\u001B[0m\u001B[1;33m(\u001B[0m\u001B[0msaveables\u001B[0m\u001B[1;33m,\u001B[0m \u001B[0mseen_ops\u001B[0m\u001B[1;33m,\u001B[0m \u001B[0mconverted_saveable_object\u001B[0m\u001B[1;33m)\u001B[0m\u001B[1;33m\u001B[0m\u001B[1;33m\u001B[0m\u001B[0m\n\u001B[0;32m    364\u001B[0m   \u001B[1;32mreturn\u001B[0m \u001B[0msaveables\u001B[0m\u001B[1;33m\u001B[0m\u001B[1;33m\u001B[0m\u001B[0m\n",
      "\u001B[1;32mc:\\users\\1023d\\.virtualenvs\\pythonmachinelearning-qwvwlql2\\lib\\site-packages\\tensorflow\\python\\training\\saving\\saveable_object_util.py\u001B[0m in \u001B[0;36msaveable_objects_for_op\u001B[1;34m(op, name)\u001B[0m\n\u001B[0;32m    209\u001B[0m     \u001B[1;32melse\u001B[0m\u001B[1;33m:\u001B[0m\u001B[1;33m\u001B[0m\u001B[1;33m\u001B[0m\u001B[0m\n\u001B[0;32m    210\u001B[0m       \u001B[1;32mif\u001B[0m \u001B[0mcontext\u001B[0m\u001B[1;33m.\u001B[0m\u001B[0mexecuting_eagerly\u001B[0m\u001B[1;33m(\u001B[0m\u001B[1;33m)\u001B[0m\u001B[1;33m:\u001B[0m\u001B[1;33m\u001B[0m\u001B[1;33m\u001B[0m\u001B[0m\n\u001B[1;32m--> 211\u001B[1;33m         raise ValueError(\"Can only save/restore ResourceVariables when \"\n\u001B[0m\u001B[0;32m    212\u001B[0m                          \"executing eagerly, got type: %s.\" % type(op))\n\u001B[0;32m    213\u001B[0m \u001B[1;33m\u001B[0m\u001B[0m\n",
      "\u001B[1;31mValueError\u001B[0m: Can only save/restore ResourceVariables when executing eagerly, got type: <class 'tensorflow.python.framework.ops.Tensor'>."
     ]
    }
   ],
   "source": [
    "cnn.save(epoch=20)"
   ],
   "metadata": {
    "collapsed": false,
    "pycharm": {
     "name": "#%%\n"
    }
   }
  },
  {
   "cell_type": "code",
   "execution_count": 56,
   "outputs": [
    {
     "name": "stdout",
     "output_type": "stream",
     "text": [
      "[7 2 1 0 4 1 4 9 5 9]\n"
     ]
    }
   ],
   "source": [
    "# del cnn\n",
    "#\n",
    "# cnn2 = ConvNN(random_seed=123)\n",
    "# cnn2.load(epoch=20, path='./tflayers-model/')\n",
    "print(cnn.predict(X_test_centered[:10, :]))"
   ],
   "metadata": {
    "collapsed": false,
    "pycharm": {
     "name": "#%%\n"
    }
   }
  },
  {
   "cell_type": "code",
   "execution_count": 57,
   "outputs": [
    {
     "name": "stdout",
     "output_type": "stream",
     "text": [
      "Test Accuracy: 99.33%\n"
     ]
    }
   ],
   "source": [
    "preds = cnn.predict(X_test_centered)\n",
    "print('Test Accuracy: %.2f%%' % (100 * np.sum(y_test == preds) / len(y_test)))"
   ],
   "metadata": {
    "collapsed": false,
    "pycharm": {
     "name": "#%%\n"
    }
   }
  },
  {
   "cell_type": "code",
   "execution_count": null,
   "outputs": [],
   "source": [],
   "metadata": {
    "collapsed": false,
    "pycharm": {
     "name": "#%%\n"
    }
   }
  }
 ],
 "metadata": {
  "kernelspec": {
   "display_name": "Python 3",
   "language": "python",
   "name": "python3"
  },
  "language_info": {
   "codemirror_mode": {
    "name": "ipython",
    "version": 2
   },
   "file_extension": ".py",
   "mimetype": "text/x-python",
   "name": "python",
   "nbconvert_exporter": "python",
   "pygments_lexer": "ipython2",
   "version": "2.7.6"
  }
 },
 "nbformat": 4,
 "nbformat_minor": 0
}